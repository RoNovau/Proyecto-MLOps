{
 "cells": [
  {
   "cell_type": "code",
   "execution_count": 1,
   "metadata": {},
   "outputs": [],
   "source": [
    "import pandas as pd\n",
    "from sklearn.feature_extraction.text import CountVectorizer\n",
    "from sklearn.metrics.pairwise import cosine_similarity"
   ]
  },
  {
   "cell_type": "code",
   "execution_count": null,
   "metadata": {},
   "outputs": [],
   "source": [
    "# lectura del csv que alimenta el modelo de machine learning\n",
    "df_modelo= pd.read_csv('modelo.csv')"
   ]
  },
  {
   "cell_type": "code",
   "execution_count": null,
   "metadata": {},
   "outputs": [],
   "source": [
    "# Creacion de la matriz \n",
    "count= CountVectorizer(analyzer= 'word', ngram_range= (1,2), min_df = 0, stop_words= 'english')\n",
    "count_matrix = count.fit_transform(df_modelo['info'])\n",
    "\n",
    "# Creacion de la matriz de similitud\n",
    "cosine_sim = cosine_similarity(count_matrix, count_matrix)\n",
    "\n",
    "# Creacion variables titulos e indices\n",
    "titles= df_modelo['title']\n",
    "indices= pd.Series(df_modelo.index, index=df_modelo['title'])"
   ]
  },
  {
   "cell_type": "code",
   "execution_count": null,
   "metadata": {},
   "outputs": [],
   "source": [
    "def recomendacion(titulo):\n",
    "\n",
    "    '''Ingresas un nombre de pelicula y te recomienda las similares en una lista'''\n",
    "\n",
    "    idx= indices[titulo]\n",
    "    sim_scores = list(enumerate(cosine_sim[idx]))\n",
    "    sim_scores = sorted(sim_scores, key=lambda x: x[1], reverse=True)\n",
    "    sim_scores= sim_scores[1:31]\n",
    "    movie_indices= [i[0] for i in sim_scores]\n",
    "\n",
    "    if idx.size > 0:\n",
    "\n",
    "        return {'Lista recomendada' : titles.iloc[movie_indices].head().tolist()}\n",
    "    \n",
    "    else:\n",
    "\n",
    "        return {'error': f'La pelicula {titulo} no se encontro'}"
   ]
  }
 ],
 "metadata": {
  "kernelspec": {
   "display_name": "Python 3",
   "language": "python",
   "name": "python3"
  },
  "language_info": {
   "codemirror_mode": {
    "name": "ipython",
    "version": 3
   },
   "file_extension": ".py",
   "mimetype": "text/x-python",
   "name": "python",
   "nbconvert_exporter": "python",
   "pygments_lexer": "ipython3",
   "version": "3.10.8"
  },
  "orig_nbformat": 4
 },
 "nbformat": 4,
 "nbformat_minor": 2
}
