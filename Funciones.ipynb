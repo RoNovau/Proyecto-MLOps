{
 "cells": [
  {
   "cell_type": "code",
   "execution_count": 9,
   "metadata": {},
   "outputs": [],
   "source": [
    "import pandas as pd\n",
    "import datetime"
   ]
  },
  {
   "cell_type": "code",
   "execution_count": 10,
   "metadata": {},
   "outputs": [],
   "source": [
    "df_total= pd.read_csv('proyecto1.csv', sep= ',', encoding= 'utf-8')"
   ]
  },
  {
   "cell_type": "code",
   "execution_count": 12,
   "metadata": {},
   "outputs": [],
   "source": [
    "df_total['release_date']= pd.to_datetime(df_total['release_date'], yearfirst=True)"
   ]
  },
  {
   "attachments": {},
   "cell_type": "markdown",
   "metadata": {},
   "source": [
    "def cantidad_filmaciones_mes( Mes ): Se ingresa un mes en idioma Español. Debe devolver la cantidad de películas que fueron estrenadas en el mes consultado en la totalidad del dataset.\n",
    "                    Ejemplo de retorno: X cantidad de películas fueron estrenadas en el mes de X"
   ]
  },
  {
   "cell_type": "code",
   "execution_count": 96,
   "metadata": {},
   "outputs": [],
   "source": [
    "def cantidad_filmaciones_mes(Mes):\n",
    "    \n",
    "    meses= ['Enero', 'Febrero', 'Marzo', 'Abril', 'Mayo', 'Junio', 'Julio', \\\n",
    "            'Agosto', 'Septiembre', 'Octubre', 'Noviembre', 'Diciembre']\n",
    "    \n",
    "    mes_elegido= ((meses.index(Mes))+1)\n",
    "    \n",
    "    cantidad_total= 0\n",
    "\n",
    "    for i in df_total['release_date']:\n",
    "        if type(i) == str:\n",
    "            continue\n",
    "        if i.month == mes_elegido:\n",
    "            cantidad_total+=1\n",
    "\n",
    "    return \"{cantidad} peliculas fueron estrenadas en el mes de {mes}\"\\\n",
    "            .format(cantidad = cantidad_total, mes = Mes)"
   ]
  },
  {
   "cell_type": "code",
   "execution_count": 97,
   "metadata": {},
   "outputs": [
    {
     "data": {
      "text/plain": [
       "'5914 peliculas fueron estrenadas en el mes de Enero'"
      ]
     },
     "execution_count": 97,
     "metadata": {},
     "output_type": "execute_result"
    }
   ],
   "source": [
    "cantidad_filmaciones_mes('Enero')"
   ]
  },
  {
   "attachments": {},
   "cell_type": "markdown",
   "metadata": {},
   "source": [
    "def cantidad_filmaciones_dia( Dia ): Se ingresa un día en idioma Español. Debe devolver la cantidad de películas que fueron estrenadas en día consultado en la totalidad del dataset.\n",
    "                    Ejemplo de retorno: X cantidad de películas fueron estrenadas en los días X"
   ]
  },
  {
   "cell_type": "code",
   "execution_count": 94,
   "metadata": {},
   "outputs": [],
   "source": [
    "def cantidad_filmaciones_dia(Dia):\n",
    "    \n",
    "    dias= ['Lunes', 'Martes', 'Miercoles', 'Jueves', 'Viernes', 'Sabado', 'Domingo']\n",
    "    dia_elegido= ((dias.index(Dia)))\n",
    "    \n",
    "    cantidad_total= 0\n",
    "\n",
    "    for i in df_total['release_date']:\n",
    "        if type(i) == str:\n",
    "            continue\n",
    "        if i.weekday() == dia_elegido:\n",
    "            cantidad_total+=1\n",
    "\n",
    "    return \"{cantidad} peliculas fueron estrenadas los dias {dia}\"\\\n",
    "            .format(cantidad = cantidad_total, dia = Dia)"
   ]
  },
  {
   "cell_type": "code",
   "execution_count": 95,
   "metadata": {},
   "outputs": [
    {
     "data": {
      "text/plain": [
       "'3503 peliculas fueron estrenadas los dias Lunes'"
      ]
     },
     "execution_count": 95,
     "metadata": {},
     "output_type": "execute_result"
    }
   ],
   "source": [
    "cantidad_filmaciones_dia('Lunes')"
   ]
  },
  {
   "attachments": {},
   "cell_type": "markdown",
   "metadata": {},
   "source": [
    "def score_titulo( titulo_de_la_filmación ): Se ingresa el título de una filmación esperando como respuesta el título, el año de estreno y el score.\n",
    "                    Ejemplo de retorno: La película X fue estrenada en el año X con un score/popularidad de X"
   ]
  },
  {
   "cell_type": "code",
   "execution_count": 92,
   "metadata": {},
   "outputs": [],
   "source": [
    "def score_titulo(titulo_de_la_filmacion):\n",
    "    \n",
    "    titulo= titulo_de_la_filmacion\n",
    "\n",
    "    for i in range(len(df_total)):\n",
    "\n",
    "        if df_total.iloc[i]['title'] == titulo:\n",
    "            \n",
    "            año= df_total.iloc[i]['release_year']\n",
    "            score = df_total.iloc[i]['popularity']\n",
    "            \n",
    "            return \"La pelicula {titulo} fue estrenada en el año {año} \"\\\n",
    "                   \"con un score/popularidad de {score}\"\\\n",
    "                    .format(titulo = titulo, año = año, score = score)"
   ]
  },
  {
   "cell_type": "code",
   "execution_count": 93,
   "metadata": {},
   "outputs": [
    {
     "data": {
      "text/plain": [
       "'La pelicula Toy Story fue estrenada en el año 1995 con un score/popularidad de 21.946943'"
      ]
     },
     "execution_count": 93,
     "metadata": {},
     "output_type": "execute_result"
    }
   ],
   "source": [
    "score_titulo('Toy Story')"
   ]
  },
  {
   "attachments": {},
   "cell_type": "markdown",
   "metadata": {},
   "source": [
    "def votos_titulo( titulo_de_la_filmación ): Se ingresa el título de una filmación esperando como respuesta el título, la cantidad de votos y el valor promedio de las votaciones. La misma variable deberá de contar con al menos 2000 valoraciones, caso contrario, debemos contar con un mensaje avisando que no cumple esta condición y que por ende, no se devuelve ningun valor.\n",
    "                    Ejemplo de retorno: La película X fue estrenada en el año X. La misma cuenta con un total de X valoraciones, con un promedio de X"
   ]
  },
  {
   "cell_type": "code",
   "execution_count": 111,
   "metadata": {},
   "outputs": [],
   "source": [
    "def votos_titulo(titulo_de_la_filmacion):\n",
    "    titulo= titulo_de_la_filmacion\n",
    "\n",
    "    for i in range(len(df_total)):\n",
    "\n",
    "        año= df_total.iloc[i]['release_year']\n",
    "        votos = df_total.iloc[i]['vote_count']\n",
    "        promedio = df_total.iloc[i]['vote_average']\n",
    "\n",
    "        if df_total.iloc[i]['title'] == titulo:\n",
    "            \n",
    "            if df_total.iloc[i]['vote_count'] < 2000:\n",
    "\n",
    "                return \"La pelicula {titulo} fue estrenada en el año {año} \"\\\n",
    "                        \"y no cuenta con valoraciones suficientes para evaluar\"\\\n",
    "                        .format(titulo = titulo, año = año)\n",
    "\n",
    "            else:\n",
    "                \n",
    "                return \"La pelicula {titulo} fue estrenada en el año {año}. \"\\\n",
    "                        \"La misma cuenta con un total de {votos} valoraciones \"\\\n",
    "                        \"y con un promedio de {promedio}\".format(titulo = titulo, año = \n",
    "                        año, votos= votos, promedio= promedio)"
   ]
  },
  {
   "cell_type": "code",
   "execution_count": 112,
   "metadata": {},
   "outputs": [
    {
     "data": {
      "text/plain": [
       "'La pelicula Toy Story fue estrenada en el año 1995. La misma cuenta con un total de 5415.0 valoraciones y con un promedio de 7.7'"
      ]
     },
     "execution_count": 112,
     "metadata": {},
     "output_type": "execute_result"
    }
   ],
   "source": [
    "votos_titulo('Toy Story')"
   ]
  },
  {
   "attachments": {},
   "cell_type": "markdown",
   "metadata": {},
   "source": [
    "def get_actor( nombre_actor ): Se ingresa el nombre de un actor que se encuentre dentro de un dataset debiendo devolver el éxito del mismo medido a través del retorno. Además, la cantidad de películas que en las que ha participado y el promedio de retorno. La definición no deberá considerar directores.\n",
    "                    Ejemplo de retorno: El actor X ha participado de X cantidad de filmaciones, el mismo ha conseguido un retorno de X con un promedio de X por filmación"
   ]
  },
  {
   "attachments": {},
   "cell_type": "markdown",
   "metadata": {},
   "source": [
    "Encontre valores nan dentro de la columna actores y directores que no me permitian armar la funcion, asi que los cambie"
   ]
  },
  {
   "cell_type": "code",
   "execution_count": null,
   "metadata": {},
   "outputs": [],
   "source": [
    "df_total[df_total['actors_names'].isna()]\n",
    "df_total.iloc[42827]\n",
    "\n",
    "df_total['directors_names'][42827] = '[]'\n",
    "df_total['actors_names'][42827] = '[]'"
   ]
  },
  {
   "cell_type": "code",
   "execution_count": 176,
   "metadata": {},
   "outputs": [],
   "source": [
    "def get_actor(nombre_actor):\n",
    "    \n",
    "    actor= nombre_actor\n",
    "    cantidad_peliculas= 0\n",
    "    retorno_total= 0\n",
    "\n",
    "    for i in range(len(df_total)):\n",
    "\n",
    "        if actor in (df_total.iloc[i]['actors_names']):\n",
    "            \n",
    "            cantidad_peliculas +=1\n",
    "            retorno_total+= df_total.iloc[i]['return']\n",
    "        \n",
    "    promedio_retorno= (retorno_total/cantidad_peliculas)\n",
    "\n",
    "    return \"El actor {actor} ha participado de {cantidad_peliculas} \"\\\n",
    "            \"filmaciones, el mismo ha conseguido un retorno \"\\\n",
    "            \"de {retorno_total} con un promedio de {promedio} por filmacion.\"\\\n",
    "            .format(actor = actor, cantidad_peliculas = cantidad_peliculas, \n",
    "                    retorno_total= round(retorno_total, 2), promedio= round(promedio_retorno,2))"
   ]
  },
  {
   "cell_type": "code",
   "execution_count": 179,
   "metadata": {},
   "outputs": [
    {
     "data": {
      "text/plain": [
       "'El actor Robin Williams ha participado de 82 filmaciones, el mismo ha conseguido un retorno de 155.69 con un promedio de 1.9 por filmacion.'"
      ]
     },
     "execution_count": 179,
     "metadata": {},
     "output_type": "execute_result"
    }
   ],
   "source": [
    "get_actor('Robin Williams')"
   ]
  },
  {
   "attachments": {},
   "cell_type": "markdown",
   "metadata": {},
   "source": [
    "def get_director( nombre_director ): Se ingresa el nombre de un director que se encuentre dentro de un dataset debiendo devolver el éxito del mismo medido a través del retorno. Además, deberá devolver el nombre de cada película con la fecha de lanzamiento, retorno individual, costo y ganancia de la misma."
   ]
  },
  {
   "cell_type": "code",
   "execution_count": 273,
   "metadata": {},
   "outputs": [],
   "source": [
    "def get_director(nombre_director):\n",
    "    \n",
    "    director= nombre_director\n",
    "    datos= df_total[df_total['directors_names'].str.contains('John Lasseter')].reset_index(drop=True)\n",
    "    retorno_total= datos['return'].sum()\n",
    "    peliculas= datos[['title', 'release_date', 'return', 'budget', 'revenue']].to_numpy().tolist()\n",
    "\n",
    "    return f\"El director {director} ha conseguido un retorno de {retorno_total:.2f}.\\\n",
    " Sus peliculas fueron las siguientes:\", peliculas"
   ]
  },
  {
   "cell_type": "code",
   "execution_count": 274,
   "metadata": {},
   "outputs": [
    {
     "data": {
      "text/plain": [
       "('El director John Lasseter ha conseguido un retorno de 27.65. Sus peliculas fueron las siguientes:',\n",
       " [['Toy Story',\n",
       "   Timestamp('1995-10-30 00:00:00'),\n",
       "   12.4518011,\n",
       "   30000000.0,\n",
       "   373554033.0],\n",
       "  [\"A Bug's Life\",\n",
       "   Timestamp('1998-11-25 00:00:00'),\n",
       "   3.027157158333333,\n",
       "   120000000.0,\n",
       "   363258859.0],\n",
       "  ['Toy Story 2',\n",
       "   Timestamp('1999-10-30 00:00:00'),\n",
       "   5.526298544444445,\n",
       "   90000000.0,\n",
       "   497366869.0],\n",
       "  ['Luxo Jr.', Timestamp('1986-08-17 00:00:00'), 0.0, 0.0, 0.0],\n",
       "  ['Cars',\n",
       "   Timestamp('2006-06-08 00:00:00'),\n",
       "   3.849859575,\n",
       "   120000000.0,\n",
       "   461983149.0],\n",
       "  ['Cars 2',\n",
       "   Timestamp('2011-06-11 00:00:00'),\n",
       "   2.79926198,\n",
       "   200000000.0,\n",
       "   559852396.0],\n",
       "  ['Tin Toy', Timestamp('1988-08-01 00:00:00'), 0.0, 0.0, 0.0],\n",
       "  [\"Red's Dream\", Timestamp('1987-08-17 00:00:00'), 0.0, 0.0, 0.0],\n",
       "  ['Knick Knack', Timestamp('1989-01-01 00:00:00'), 0.0, 0.0, 0.0],\n",
       "  ['Mater and the Ghostlight',\n",
       "   Timestamp('2006-07-27 00:00:00'),\n",
       "   0.0,\n",
       "   0.0,\n",
       "   0.0]])"
      ]
     },
     "execution_count": 274,
     "metadata": {},
     "output_type": "execute_result"
    }
   ],
   "source": [
    "(get_director('John Lasseter'))"
   ]
  }
 ],
 "metadata": {
  "kernelspec": {
   "display_name": "Python 3",
   "language": "python",
   "name": "python3"
  },
  "language_info": {
   "codemirror_mode": {
    "name": "ipython",
    "version": 3
   },
   "file_extension": ".py",
   "mimetype": "text/x-python",
   "name": "python",
   "nbconvert_exporter": "python",
   "pygments_lexer": "ipython3",
   "version": "3.10.8"
  },
  "orig_nbformat": 4
 },
 "nbformat": 4,
 "nbformat_minor": 2
}
