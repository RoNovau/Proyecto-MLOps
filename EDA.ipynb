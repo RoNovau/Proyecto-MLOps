{
 "cells": [
  {
   "attachments": {},
   "cell_type": "markdown",
   "metadata": {},
   "source": [
    "\n",
    "@app.get('/get_director/{nombre_director}')\n",
    "def get_director(nombre_director:str):\n",
    "    ''' Se ingresa el nombre de un director que se encuentre dentro de un dataset debiendo devolver el éxito del mismo medido a través del retorno. \n",
    "    Además, deberá devolver el nombre de cada película con la fecha de lanzamiento, retorno individual, costo y ganancia de la misma.'''\n",
    "    return {'director':nombre_director, 'retorno_total_director':respuesta, \n",
    "    'peliculas':respuesta, 'anio':respuesta,, 'retorno_pelicula':respuesta, \n",
    "    'budget_pelicula':respuesta, 'revenue_pelicula':respuesta}\n",
    "\n",
    "# ML\n",
    "@app.get('/recomendacion/{titulo}')\n",
    "def recomendacion(titulo:str):\n",
    "    '''Ingresas un nombre de pelicula y te recomienda las similares en una lista'''\n",
    "    return {'lista recomendada': respuesta}"
   ]
  },
  {
   "attachments": {},
   "cell_type": "markdown",
   "metadata": {},
   "source": [
    "Ya los datos están limpios, ahora es tiempo de investigar las relaciones que hay entre las variables de los datasets, ver si hay outliers o anomalías (que no tienen que ser errores necesariamente 👀 ), y ver si hay algún patrón interesante que valga la pena explorar en un análisis posterior."
   ]
  },
  {
   "attachments": {},
   "cell_type": "markdown",
   "metadata": {},
   "source": [
    "Una vez que toda la data es consumible por la API, está lista para consumir por los departamentos de Analytics y Machine Learning, y nuestro EDA nos permite entender bien los datos a los que tenemos acceso, es hora de entrenar nuestro modelo de machine learning para armar un sistema de recomendación de películas. El EDA debería incluir gráficas interesantes para extraer datos, como por ejemplo una nube de palabras con las palabras más frecuentes en los títulos de las películas. Éste consiste en recomendar películas a los usuarios basándose en películas similares, por lo que se debe encontrar la similitud de puntuación entre esa película y el resto de películas, se ordenarán según el score de similaridad y devolverá una lista de Python con 5 valores, cada uno siendo el string del nombre de las películas con mayor puntaje, en orden descendente. Debe ser deployado como una función adicional de la API anterior y debe llamarse:"
   ]
  },
  {
   "cell_type": "code",
   "execution_count": null,
   "metadata": {},
   "outputs": [],
   "source": [
    "print(df1.shape)\n",
    "df1.head()\n",
    "df1.dtypes"
   ]
  },
  {
   "attachments": {},
   "cell_type": "markdown",
   "metadata": {},
   "source": [
    "**Veamos cuál es la película que más calificaciones tiene y cuál la que menos**."
   ]
  },
  {
   "cell_type": "code",
   "execution_count": null,
   "metadata": {},
   "outputs": [],
   "source": [
    "df1_by_movies = df1.groupby(['movie_id']).count()\n",
    "df1_by_movies.head()"
   ]
  },
  {
   "cell_type": "code",
   "execution_count": null,
   "metadata": {},
   "outputs": [],
   "source": [
    "idx_max = df1_by_movies['User'].idxmax()\n",
    "print(df_title.loc[idx_max].Name)"
   ]
  },
  {
   "cell_type": "code",
   "execution_count": null,
   "metadata": {},
   "outputs": [],
   "source": [
    "# Pelicula con menos calificaciones\n",
    "idx_min = df1_by_movies['User'].idxmin()\n",
    "print(df_title.loc[idx_min].Name)"
   ]
  },
  {
   "attachments": {},
   "cell_type": "markdown",
   "metadata": {},
   "source": [
    "### **Películas por popularidad**"
   ]
  },
  {
   "cell_type": "code",
   "execution_count": null,
   "metadata": {},
   "outputs": [],
   "source": [
    "df1_by_movies = df1.groupby(['movie_id']).count()\n",
    "df1_by_movies.sort_values('User', ascending = False, inplace = True)\n",
    "df1_by_movies['Vistos'] = df1_by_movies['User']\n",
    "df1_by_movies.drop(columns = ['User','Rating'], inplace = True)\n",
    "df1_by_movies.head(10)"
   ]
  },
  {
   "cell_type": "code",
   "execution_count": null,
   "metadata": {},
   "outputs": [],
   "source": [
    "plt.figure(figsize = (8,4))\n",
    "\n",
    "df1_by_movies.Vistos[df1_by_movies.Vistos<1000].hist(log = True, bins = 20)\n",
    "plt.title('Distribución de la cantidad de vistas')\n",
    "\n",
    "plt.show()"
   ]
  }
 ],
 "metadata": {
  "kernelspec": {
   "display_name": "Python 3",
   "language": "python",
   "name": "python3"
  },
  "language_info": {
   "codemirror_mode": {
    "name": "ipython",
    "version": 3
   },
   "file_extension": ".py",
   "mimetype": "text/x-python",
   "name": "python",
   "nbconvert_exporter": "python",
   "pygments_lexer": "ipython3",
   "version": "3.10.8"
  },
  "orig_nbformat": 4
 },
 "nbformat": 4,
 "nbformat_minor": 2
}
