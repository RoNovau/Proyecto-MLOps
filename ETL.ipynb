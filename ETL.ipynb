{
 "cells": [
  {
   "attachments": {},
   "cell_type": "markdown",
   "metadata": {},
   "source": [
    "Importar csv desde un link de google drive y ver que tienen integrado, cuales son las variables y que tipo de datos contienen"
   ]
  },
  {
   "attachments": {},
   "cell_type": "markdown",
   "metadata": {},
   "source": [
    "Los archivos a utilizar en el siguiente notebook se pueden encontrar en https://drive.google.com/drive/folders/1Zauxz1bBC6ZKu874hS-VV2_mSCRZo444?usp=sharing"
   ]
  },
  {
   "cell_type": "code",
   "execution_count": 441,
   "metadata": {},
   "outputs": [],
   "source": [
    "import pandas as pd\n",
    "import numpy as np"
   ]
  },
  {
   "cell_type": "code",
   "execution_count": null,
   "metadata": {},
   "outputs": [],
   "source": [
    "df_movies = pd.read_csv('movies_dataset', sep=',', encoding= 'utf-8')"
   ]
  },
  {
   "attachments": {},
   "cell_type": "markdown",
   "metadata": {},
   "source": [
    "Eliminar las columnas que no serán utilizadas, video,imdb_id,adult,original_title,poster_path y homepage."
   ]
  },
  {
   "cell_type": "code",
   "execution_count": 443,
   "metadata": {},
   "outputs": [],
   "source": [
    "df_movies.drop(columns= ['video', 'imdb_id', 'adult', 'original_title', 'poster_path', 'homepage'], inplace=True)"
   ]
  },
  {
   "attachments": {},
   "cell_type": "markdown",
   "metadata": {},
   "source": [
    "Los valores nulos del campo release date deben eliminarse."
   ]
  },
  {
   "cell_type": "code",
   "execution_count": 444,
   "metadata": {},
   "outputs": [
    {
     "data": {
      "text/plain": [
       "0"
      ]
     },
     "execution_count": 444,
     "metadata": {},
     "output_type": "execute_result"
    }
   ],
   "source": [
    "df_movies.dropna(subset= ['release_date'], inplace=True)\n",
    "df_movies['release_date'].isna().sum()"
   ]
  },
  {
   "attachments": {},
   "cell_type": "markdown",
   "metadata": {},
   "source": [
    "Los valores nulos de los campos revenue, budget deben ser rellenados por el número 0."
   ]
  },
  {
   "cell_type": "code",
   "execution_count": 445,
   "metadata": {},
   "outputs": [],
   "source": [
    "df_movies.revenue.fillna(0, inplace=True)\n",
    "df_movies.budget.fillna(0, inplace=True)"
   ]
  },
  {
   "attachments": {},
   "cell_type": "markdown",
   "metadata": {},
   "source": [
    "Libreria ast"
   ]
  },
  {
   "cell_type": "code",
   "execution_count": 446,
   "metadata": {},
   "outputs": [],
   "source": [
    "import ast\n",
    "\n",
    "new_column= []\n",
    "\n",
    "for i in df_movies['belongs_to_collection']:\n",
    "\n",
    "    if type(i) == str:\n",
    "        i= ast.literal_eval(i)\n",
    "    \n",
    "    new_column.append(i)"
   ]
  },
  {
   "cell_type": "code",
   "execution_count": 447,
   "metadata": {},
   "outputs": [],
   "source": [
    "id_values= []\n",
    "name_values= []\n",
    "poster_path= []\n",
    "backdrop_path= []"
   ]
  },
  {
   "cell_type": "code",
   "execution_count": 448,
   "metadata": {},
   "outputs": [],
   "source": [
    "for i in new_column:\n",
    "    if type(i) == float: id_values.append(i), name_values.append(i), poster_path.append(i), backdrop_path.append(i)\n",
    "    \n",
    "    if type(i) == dict: \n",
    "\n",
    "        id_values.append(i.get(\"id\"))\n",
    "        name_values.append(i.get(\"name\"))\n",
    "        poster_path.append(i.get(\"poster_path\"))\n",
    "        backdrop_path.append(i.get(\"backdrop_path\"))"
   ]
  },
  {
   "attachments": {},
   "cell_type": "markdown",
   "metadata": {},
   "source": [
    "Agregar nuevas columnas al dataframe"
   ]
  },
  {
   "cell_type": "code",
   "execution_count": 449,
   "metadata": {},
   "outputs": [],
   "source": [
    "df_movies['id_collection']= id_values\n",
    "df_movies['name_collection']= name_values\n",
    "df_movies['poster_path_collection']= poster_path\n",
    "df_movies['backdrop_path_collection']= backdrop_path"
   ]
  },
  {
   "attachments": {},
   "cell_type": "markdown",
   "metadata": {},
   "source": [
    "Desanidar columna genres"
   ]
  },
  {
   "cell_type": "code",
   "execution_count": 450,
   "metadata": {},
   "outputs": [],
   "source": [
    "import ast\n",
    "\n",
    "new_column= []\n",
    "\n",
    "for i in df_movies['genres']:\n",
    "\n",
    "    if type(i) == str:\n",
    "        i= ast.literal_eval(i)\n",
    "    \n",
    "    new_column.append(i)"
   ]
  },
  {
   "cell_type": "code",
   "execution_count": 451,
   "metadata": {},
   "outputs": [],
   "source": [
    "id_genre=[]\n",
    "name_genre=[]"
   ]
  },
  {
   "cell_type": "code",
   "execution_count": 452,
   "metadata": {},
   "outputs": [],
   "source": [
    "for i in new_column:\n",
    "\n",
    "    if type(i) == float: id_genre.append(i), name_genre.append(i)\n",
    "    \n",
    "    if type(i) == dict: \n",
    "\n",
    "        id_genre.append(i.get(\"id\"))\n",
    "        name_genre.append(i.get(\"name\"))\n",
    "    \n",
    "    if type(i) == list:\n",
    "        \n",
    "        id= []\n",
    "        name= []\n",
    "\n",
    "        for num in range(len(i)):\n",
    "\n",
    "            id.append(i[num].get(\"id\"))\n",
    "            name.append(i[num].get(\"name\"))\n",
    "\n",
    "        id_genre.append(id)\n",
    "        name_genre.append(name)\n",
    "             "
   ]
  },
  {
   "attachments": {},
   "cell_type": "markdown",
   "metadata": {},
   "source": [
    "Agregar nuevas columnas al dataframe"
   ]
  },
  {
   "cell_type": "code",
   "execution_count": 453,
   "metadata": {},
   "outputs": [],
   "source": [
    "df_movies['id_genre']= id_genre\n",
    "df_movies['name_genre']= name_genre"
   ]
  },
  {
   "attachments": {},
   "cell_type": "markdown",
   "metadata": {},
   "source": [
    "Desanidar columna: spoken_languages"
   ]
  },
  {
   "cell_type": "code",
   "execution_count": 454,
   "metadata": {},
   "outputs": [],
   "source": [
    "import ast\n",
    "\n",
    "new_column= []\n",
    "\n",
    "for i in df_movies['spoken_languages']:\n",
    "\n",
    "    if type(i) == str:\n",
    "        i= ast.literal_eval(i)\n",
    "    \n",
    "    new_column.append(i)"
   ]
  },
  {
   "cell_type": "code",
   "execution_count": 455,
   "metadata": {},
   "outputs": [],
   "source": [
    "iso_639_1=[]\n",
    "name_language=[]"
   ]
  },
  {
   "cell_type": "code",
   "execution_count": 456,
   "metadata": {},
   "outputs": [],
   "source": [
    "for i in new_column:\n",
    "\n",
    "    if type(i) == float: iso_639_1.append(i), name_language.append(i)\n",
    "    \n",
    "    if type(i) == dict: \n",
    "\n",
    "        iso_639_1.append(i.get(\"iso_639_1\"))\n",
    "        name_language.append(i.get(\"name\"))\n",
    "    \n",
    "    if type(i) == list:\n",
    "        \n",
    "        id= []\n",
    "        name= []\n",
    "\n",
    "        for num in range(len(i)):\n",
    "\n",
    "            id.append(i[num].get(\"iso_639_1\"))\n",
    "            name.append(i[num].get(\"name\"))\n",
    "\n",
    "        iso_639_1.append(id)\n",
    "        name_language.append(name)"
   ]
  },
  {
   "attachments": {},
   "cell_type": "markdown",
   "metadata": {},
   "source": [
    "Agregar nuevas columnas al dataframe"
   ]
  },
  {
   "cell_type": "code",
   "execution_count": 457,
   "metadata": {},
   "outputs": [],
   "source": [
    "df_movies['iso_639_1']= iso_639_1\n",
    "df_movies['name_language']= name_language"
   ]
  },
  {
   "attachments": {},
   "cell_type": "markdown",
   "metadata": {},
   "source": [
    "Desanidar columna production_companies"
   ]
  },
  {
   "cell_type": "code",
   "execution_count": 458,
   "metadata": {},
   "outputs": [],
   "source": [
    "import ast\n",
    "\n",
    "new_column= []"
   ]
  },
  {
   "cell_type": "code",
   "execution_count": 459,
   "metadata": {},
   "outputs": [],
   "source": [
    "for i in df_movies['production_companies']:\n",
    "\n",
    "    if type(i) == str:\n",
    "        i= ast.literal_eval(i)\n",
    "    \n",
    "    new_column.append(i)"
   ]
  },
  {
   "attachments": {},
   "cell_type": "markdown",
   "metadata": {},
   "source": [
    "Transformar el valor de algunos registros que contenian una variable booleana: False. Esto no permitia desanidar la columna 'production_companies'"
   ]
  },
  {
   "cell_type": "code",
   "execution_count": 460,
   "metadata": {},
   "outputs": [
    {
     "name": "stdout",
     "output_type": "stream",
     "text": [
      "19714 False\n",
      "29472 False\n",
      "35543 False\n"
     ]
    }
   ],
   "source": [
    "for i, var in enumerate (new_column):\n",
    "    \n",
    "    if type(var) != list: print(i, var)"
   ]
  },
  {
   "cell_type": "code",
   "execution_count": 461,
   "metadata": {},
   "outputs": [],
   "source": [
    "new_column[19714] = []\n",
    "new_column[29472] = []\n",
    "new_column[35543] = []"
   ]
  },
  {
   "cell_type": "code",
   "execution_count": 462,
   "metadata": {},
   "outputs": [],
   "source": [
    "id_production_companies=[]\n",
    "name_production_companies=[]"
   ]
  },
  {
   "cell_type": "code",
   "execution_count": 463,
   "metadata": {},
   "outputs": [],
   "source": [
    "for i in new_column:\n",
    "\n",
    "    if type(i) == float:\n",
    "        id_production_companies.append(i), name_language.append(i)\n",
    "\n",
    "    \n",
    "    if type(i) == dict: \n",
    "\n",
    "        id_production_companies.append(i.get(\"id\"))\n",
    "        name_production_companies.append(i.get(\"name\"))\n",
    "    \n",
    "    if type(i) == list:\n",
    "        \n",
    "        id= []\n",
    "        name= []\n",
    "\n",
    "        for num in range(len(i)):\n",
    "\n",
    "            id.append(i[num].get(\"id\"))\n",
    "            name.append(i[num].get(\"name\"))\n",
    "\n",
    "        id_production_companies.append(id)\n",
    "        name_production_companies.append(name)\n",
    "\n"
   ]
  },
  {
   "attachments": {},
   "cell_type": "markdown",
   "metadata": {},
   "source": [
    "Agregar nuevas columnas al dataframe"
   ]
  },
  {
   "cell_type": "code",
   "execution_count": 464,
   "metadata": {},
   "outputs": [],
   "source": [
    "df_movies['id_production_companies']= id_production_companies\n",
    "df_movies['name_production_companies']= name_production_companies"
   ]
  },
  {
   "attachments": {},
   "cell_type": "markdown",
   "metadata": {},
   "source": [
    "Desanidar columna: production_countries"
   ]
  },
  {
   "cell_type": "code",
   "execution_count": 465,
   "metadata": {},
   "outputs": [],
   "source": [
    "import ast\n",
    "\n",
    "new_column= []"
   ]
  },
  {
   "cell_type": "code",
   "execution_count": 466,
   "metadata": {},
   "outputs": [],
   "source": [
    "for i in df_movies['production_countries']:\n",
    "\n",
    "    if type(i) == str:\n",
    "        i= ast.literal_eval(i)\n",
    "    \n",
    "    new_column.append(i)"
   ]
  },
  {
   "cell_type": "code",
   "execution_count": 467,
   "metadata": {},
   "outputs": [],
   "source": [
    "iso_country=[]\n",
    "name_country=[]"
   ]
  },
  {
   "cell_type": "code",
   "execution_count": 468,
   "metadata": {},
   "outputs": [],
   "source": [
    "for i in new_column:\n",
    "\n",
    "    if type(i) == float:\n",
    "        iso_country.append(i), name_country.append(i)\n",
    "\n",
    "    \n",
    "    if type(i) == dict: \n",
    "\n",
    "        iso_country.append(i.get(\"iso_3166_1\"))\n",
    "        name_country.append(i.get(\"name\"))\n",
    "    \n",
    "    if type(i) == list:\n",
    "        \n",
    "        id= []\n",
    "        name= []\n",
    "\n",
    "        for num in range(len(i)):\n",
    "\n",
    "            id.append(i[num].get(\"iso_3166_1\"))\n",
    "            name.append(i[num].get(\"name\"))\n",
    "\n",
    "        iso_country.append(id)\n",
    "        name_country.append(name)"
   ]
  },
  {
   "attachments": {},
   "cell_type": "markdown",
   "metadata": {},
   "source": [
    "Agregar nuevas columnas al dataframe"
   ]
  },
  {
   "cell_type": "code",
   "execution_count": 469,
   "metadata": {},
   "outputs": [],
   "source": [
    "df_movies['iso_country']= iso_country\n",
    "df_movies['name_country']= name_country"
   ]
  },
  {
   "attachments": {},
   "cell_type": "markdown",
   "metadata": {},
   "source": [
    "Quitar columnas desanidadas del dataframe"
   ]
  },
  {
   "cell_type": "code",
   "execution_count": 470,
   "metadata": {},
   "outputs": [],
   "source": [
    "df_movies.drop(columns= ['belongs_to_collection', 'spoken_languages', 'genres', 'production_countries', 'production_companies'], inplace=True)"
   ]
  },
  {
   "attachments": {},
   "cell_type": "markdown",
   "metadata": {},
   "source": [
    "Extraer este dataframe como un csv, solo con las primeras instrucciones y los campos desanidados"
   ]
  },
  {
   "cell_type": "code",
   "execution_count": 471,
   "metadata": {},
   "outputs": [],
   "source": [
    "df_movies.to_csv('movies_desanidado.csv', index=False)"
   ]
  },
  {
   "attachments": {},
   "cell_type": "markdown",
   "metadata": {},
   "source": [
    "Algunos datos de la columna 'Budget' contenian strings en vez de numeros, esas filas ademas tenian mal la mayoria de las columnas por lo que son eliminadas"
   ]
  },
  {
   "cell_type": "code",
   "execution_count": 474,
   "metadata": {},
   "outputs": [
    {
     "data": {
      "text/html": [
       "<div>\n",
       "<style scoped>\n",
       "    .dataframe tbody tr th:only-of-type {\n",
       "        vertical-align: middle;\n",
       "    }\n",
       "\n",
       "    .dataframe tbody tr th {\n",
       "        vertical-align: top;\n",
       "    }\n",
       "\n",
       "    .dataframe thead th {\n",
       "        text-align: right;\n",
       "    }\n",
       "</style>\n",
       "<table border=\"1\" class=\"dataframe\">\n",
       "  <thead>\n",
       "    <tr style=\"text-align: right;\">\n",
       "      <th></th>\n",
       "      <th>budget</th>\n",
       "      <th>id</th>\n",
       "      <th>original_language</th>\n",
       "      <th>overview</th>\n",
       "      <th>popularity</th>\n",
       "      <th>release_date</th>\n",
       "      <th>revenue</th>\n",
       "      <th>runtime</th>\n",
       "      <th>status</th>\n",
       "      <th>tagline</th>\n",
       "      <th>...</th>\n",
       "      <th>poster_path_collection</th>\n",
       "      <th>backdrop_path_collection</th>\n",
       "      <th>id_genre</th>\n",
       "      <th>name_genre</th>\n",
       "      <th>iso_639_1</th>\n",
       "      <th>name_language</th>\n",
       "      <th>id_production_companies</th>\n",
       "      <th>name_production_companies</th>\n",
       "      <th>iso_country</th>\n",
       "      <th>name_country</th>\n",
       "    </tr>\n",
       "  </thead>\n",
       "  <tbody>\n",
       "    <tr>\n",
       "      <th>19730</th>\n",
       "      <td>/ff9qCepilowshEtG2GYWwzt2bs4.jpg</td>\n",
       "      <td>1997-08-20</td>\n",
       "      <td>104.0</td>\n",
       "      <td>Released</td>\n",
       "      <td>NaN</td>\n",
       "      <td>1</td>\n",
       "      <td>0.0</td>\n",
       "      <td>NaN</td>\n",
       "      <td>NaN</td>\n",
       "      <td>NaN</td>\n",
       "      <td>...</td>\n",
       "      <td>0.065736</td>\n",
       "      <td>0.065736</td>\n",
       "      <td>[11176, 11602, 29812]</td>\n",
       "      <td>[Carousel Productions, Vision View Entertainme...</td>\n",
       "      <td>NaN</td>\n",
       "      <td>NaN</td>\n",
       "      <td>[]</td>\n",
       "      <td>[]</td>\n",
       "      <td>6.0</td>\n",
       "      <td>6.0</td>\n",
       "    </tr>\n",
       "    <tr>\n",
       "      <th>29503</th>\n",
       "      <td>/zV8bHuSL6WXoD6FWogP9j4x80bL.jpg</td>\n",
       "      <td>2012-09-29</td>\n",
       "      <td>68.0</td>\n",
       "      <td>Released</td>\n",
       "      <td>NaN</td>\n",
       "      <td>12</td>\n",
       "      <td>0.0</td>\n",
       "      <td>NaN</td>\n",
       "      <td>NaN</td>\n",
       "      <td>NaN</td>\n",
       "      <td>...</td>\n",
       "      <td>1.931659</td>\n",
       "      <td>1.931659</td>\n",
       "      <td>[2883, 7759, 7760, 7761, 33751]</td>\n",
       "      <td>[Aniplex, GoHands, BROSTA TV, Mardock Scramble...</td>\n",
       "      <td>NaN</td>\n",
       "      <td>NaN</td>\n",
       "      <td>[]</td>\n",
       "      <td>[]</td>\n",
       "      <td>7.0</td>\n",
       "      <td>7.0</td>\n",
       "    </tr>\n",
       "    <tr>\n",
       "      <th>35587</th>\n",
       "      <td>/zaSf5OG7V8X8gqFvly88zDdRm46.jpg</td>\n",
       "      <td>2014-01-01</td>\n",
       "      <td>82.0</td>\n",
       "      <td>Released</td>\n",
       "      <td>Beware Of Frost Bites</td>\n",
       "      <td>22</td>\n",
       "      <td>0.0</td>\n",
       "      <td>NaN</td>\n",
       "      <td>NaN</td>\n",
       "      <td>NaN</td>\n",
       "      <td>...</td>\n",
       "      <td>2.185485</td>\n",
       "      <td>2.185485</td>\n",
       "      <td>[17161, 18012, 18013, 23822]</td>\n",
       "      <td>[Odyssey Media, Pulser Productions, Rogue Stat...</td>\n",
       "      <td>NaN</td>\n",
       "      <td>NaN</td>\n",
       "      <td>[]</td>\n",
       "      <td>[]</td>\n",
       "      <td>4.3</td>\n",
       "      <td>4.3</td>\n",
       "    </tr>\n",
       "  </tbody>\n",
       "</table>\n",
       "<p>3 rows × 25 columns</p>\n",
       "</div>"
      ],
      "text/plain": [
       "                                 budget          id original_language  \\\n",
       "19730  /ff9qCepilowshEtG2GYWwzt2bs4.jpg  1997-08-20             104.0   \n",
       "29503  /zV8bHuSL6WXoD6FWogP9j4x80bL.jpg  2012-09-29              68.0   \n",
       "35587  /zaSf5OG7V8X8gqFvly88zDdRm46.jpg  2014-01-01              82.0   \n",
       "\n",
       "       overview             popularity release_date  revenue  runtime status  \\\n",
       "19730  Released                    NaN            1      0.0      NaN    NaN   \n",
       "29503  Released                    NaN           12      0.0      NaN    NaN   \n",
       "35587  Released  Beware Of Frost Bites           22      0.0      NaN    NaN   \n",
       "\n",
       "      tagline  ... poster_path_collection  backdrop_path_collection  \\\n",
       "19730     NaN  ...               0.065736                  0.065736   \n",
       "29503     NaN  ...               1.931659                  1.931659   \n",
       "35587     NaN  ...               2.185485                  2.185485   \n",
       "\n",
       "                              id_genre  \\\n",
       "19730            [11176, 11602, 29812]   \n",
       "29503  [2883, 7759, 7760, 7761, 33751]   \n",
       "35587     [17161, 18012, 18013, 23822]   \n",
       "\n",
       "                                              name_genre iso_639_1  \\\n",
       "19730  [Carousel Productions, Vision View Entertainme...       NaN   \n",
       "29503  [Aniplex, GoHands, BROSTA TV, Mardock Scramble...       NaN   \n",
       "35587  [Odyssey Media, Pulser Productions, Rogue Stat...       NaN   \n",
       "\n",
       "      name_language id_production_companies name_production_companies  \\\n",
       "19730           NaN                      []                        []   \n",
       "29503           NaN                      []                        []   \n",
       "35587           NaN                      []                        []   \n",
       "\n",
       "      iso_country name_country  \n",
       "19730         6.0          6.0  \n",
       "29503         7.0          7.0  \n",
       "35587         4.3          4.3  \n",
       "\n",
       "[3 rows x 25 columns]"
      ]
     },
     "execution_count": 474,
     "metadata": {},
     "output_type": "execute_result"
    }
   ],
   "source": [
    "df_movies[df_movies['budget'].str.contains('jpg')]"
   ]
  },
  {
   "attachments": {},
   "cell_type": "markdown",
   "metadata": {},
   "source": [
    "Reindexamos el dataframe para saber en que puesto exacto estan las filas a borrar"
   ]
  },
  {
   "cell_type": "code",
   "execution_count": 475,
   "metadata": {},
   "outputs": [],
   "source": [
    "df_movies.reset_index(inplace=True, drop=True)"
   ]
  },
  {
   "cell_type": "code",
   "execution_count": 476,
   "metadata": {},
   "outputs": [],
   "source": [
    "df_movies.drop(labels= [19714, 29472, 35543], axis= 0, inplace=True)"
   ]
  },
  {
   "cell_type": "code",
   "execution_count": 477,
   "metadata": {},
   "outputs": [],
   "source": [
    "df_movies['budget'] = df_movies['budget'].astype('float64')"
   ]
  },
  {
   "attachments": {},
   "cell_type": "markdown",
   "metadata": {},
   "source": [
    "Acomodar el formato de datetime de la columna release_date"
   ]
  },
  {
   "cell_type": "code",
   "execution_count": null,
   "metadata": {},
   "outputs": [],
   "source": [
    "df_movies['release_date'].info()"
   ]
  },
  {
   "cell_type": "code",
   "execution_count": 479,
   "metadata": {},
   "outputs": [],
   "source": [
    "df_movies['release_date']= pd.to_datetime(df_movies['release_date'], yearfirst=True)"
   ]
  },
  {
   "attachments": {},
   "cell_type": "markdown",
   "metadata": {},
   "source": [
    "Crear columna release_year"
   ]
  },
  {
   "cell_type": "code",
   "execution_count": 481,
   "metadata": {},
   "outputs": [],
   "source": [
    "import datetime"
   ]
  },
  {
   "cell_type": "code",
   "execution_count": 482,
   "metadata": {},
   "outputs": [],
   "source": [
    "release_year= []\n",
    "\n",
    "for i in df_movies['release_date']:\n",
    "    release_year.append(i.year)"
   ]
  },
  {
   "cell_type": "code",
   "execution_count": 483,
   "metadata": {},
   "outputs": [],
   "source": [
    "df_movies['release_year']= release_year"
   ]
  },
  {
   "attachments": {},
   "cell_type": "markdown",
   "metadata": {},
   "source": [
    "Quitar valores duplicados segun la ID. Decido quitarlos para no tener informacion sobre la misma pelicula de forma repetida."
   ]
  },
  {
   "cell_type": "code",
   "execution_count": null,
   "metadata": {},
   "outputs": [],
   "source": [
    "df_movies.id.value_counts()"
   ]
  },
  {
   "cell_type": "code",
   "execution_count": 485,
   "metadata": {},
   "outputs": [],
   "source": [
    "df_movies.drop_duplicates(subset=['id'], inplace=True)"
   ]
  },
  {
   "attachments": {},
   "cell_type": "markdown",
   "metadata": {},
   "source": [
    "Creacion de la columna return"
   ]
  },
  {
   "cell_type": "code",
   "execution_count": 487,
   "metadata": {},
   "outputs": [],
   "source": [
    "def movie_return(row):\n",
    "        if row['budget'] == 0:\n",
    "                return 0\n",
    "        else:\n",
    "                return (row['revenue']/row['budget'])"
   ]
  },
  {
   "cell_type": "code",
   "execution_count": 488,
   "metadata": {},
   "outputs": [],
   "source": [
    "df_movies['return'] = df_movies.apply(movie_return, axis=1)"
   ]
  },
  {
   "attachments": {},
   "cell_type": "markdown",
   "metadata": {},
   "source": [
    "Extraer datos necesarios del otro dataset: 'credits.csv'"
   ]
  },
  {
   "cell_type": "code",
   "execution_count": 489,
   "metadata": {},
   "outputs": [],
   "source": [
    "df_credits = pd.read_csv('credits.csv', sep=',', encoding= 'utf-8')"
   ]
  },
  {
   "cell_type": "code",
   "execution_count": null,
   "metadata": {},
   "outputs": [],
   "source": [
    "df_credits.head()"
   ]
  },
  {
   "attachments": {},
   "cell_type": "markdown",
   "metadata": {},
   "source": [
    "Desanidar actor"
   ]
  },
  {
   "attachments": {},
   "cell_type": "markdown",
   "metadata": {},
   "source": [
    "Verificando que tipo de dato son los registros"
   ]
  },
  {
   "cell_type": "code",
   "execution_count": 490,
   "metadata": {},
   "outputs": [
    {
     "data": {
      "text/plain": [
       "str"
      ]
     },
     "execution_count": 490,
     "metadata": {},
     "output_type": "execute_result"
    }
   ],
   "source": [
    "type(df_credits.cast[0])"
   ]
  },
  {
   "attachments": {},
   "cell_type": "markdown",
   "metadata": {},
   "source": [
    "Verificando que no existan nulos"
   ]
  },
  {
   "cell_type": "code",
   "execution_count": 491,
   "metadata": {},
   "outputs": [
    {
     "data": {
      "text/plain": [
       "0"
      ]
     },
     "execution_count": 491,
     "metadata": {},
     "output_type": "execute_result"
    }
   ],
   "source": [
    "df_credits.cast.isna().sum()"
   ]
  },
  {
   "attachments": {},
   "cell_type": "markdown",
   "metadata": {},
   "source": [
    "Desanidar solo los nombres de los actores"
   ]
  },
  {
   "cell_type": "code",
   "execution_count": 492,
   "metadata": {},
   "outputs": [],
   "source": [
    "import ast\n",
    "\n",
    "new_column= []"
   ]
  },
  {
   "cell_type": "code",
   "execution_count": 493,
   "metadata": {},
   "outputs": [],
   "source": [
    "for i in df_credits['cast']:\n",
    "\n",
    "    if type(i) == str:\n",
    "        i= ast.literal_eval(i)\n",
    "    \n",
    "    new_column.append(i)"
   ]
  },
  {
   "cell_type": "code",
   "execution_count": 494,
   "metadata": {},
   "outputs": [],
   "source": [
    "actors_names=[]"
   ]
  },
  {
   "cell_type": "code",
   "execution_count": 495,
   "metadata": {},
   "outputs": [],
   "source": [
    "for i in new_column:\n",
    "\n",
    "    if type(i) == float:\n",
    "        actors_names.append(i)\n",
    "\n",
    "    \n",
    "    if type(i) == dict: \n",
    "\n",
    "        actors_names.append(i.get(\"name\"))\n",
    "    \n",
    "    if type(i) == list:\n",
    "        \n",
    "        name= []\n",
    "\n",
    "        for num in range(len(i)):\n",
    "\n",
    "            name.append(i[num].get(\"name\"))\n",
    "\n",
    "        actors_names.append(name)"
   ]
  },
  {
   "attachments": {},
   "cell_type": "markdown",
   "metadata": {},
   "source": [
    "Agregar la nueva columna al dataframe"
   ]
  },
  {
   "cell_type": "code",
   "execution_count": 496,
   "metadata": {},
   "outputs": [],
   "source": [
    "df_credits['actors_names']= actors_names"
   ]
  },
  {
   "attachments": {},
   "cell_type": "markdown",
   "metadata": {},
   "source": [
    "Desanidar directores"
   ]
  },
  {
   "attachments": {},
   "cell_type": "markdown",
   "metadata": {},
   "source": [
    "Verificar el tipo de dato"
   ]
  },
  {
   "cell_type": "code",
   "execution_count": 499,
   "metadata": {},
   "outputs": [
    {
     "data": {
      "text/plain": [
       "str"
      ]
     },
     "execution_count": 499,
     "metadata": {},
     "output_type": "execute_result"
    }
   ],
   "source": [
    "type(df_credits.crew[0])"
   ]
  },
  {
   "attachments": {},
   "cell_type": "markdown",
   "metadata": {},
   "source": [
    "Verificando que no existan nulos"
   ]
  },
  {
   "cell_type": "code",
   "execution_count": 500,
   "metadata": {},
   "outputs": [
    {
     "data": {
      "text/plain": [
       "0"
      ]
     },
     "execution_count": 500,
     "metadata": {},
     "output_type": "execute_result"
    }
   ],
   "source": [
    "df_credits.cast.isna().sum()"
   ]
  },
  {
   "attachments": {},
   "cell_type": "markdown",
   "metadata": {},
   "source": [
    "Desanidar solo los nombres de los directores"
   ]
  },
  {
   "cell_type": "code",
   "execution_count": 501,
   "metadata": {},
   "outputs": [],
   "source": [
    "import ast\n",
    "\n",
    "new_column= []"
   ]
  },
  {
   "cell_type": "code",
   "execution_count": 502,
   "metadata": {},
   "outputs": [],
   "source": [
    "for i in df_credits['crew']:\n",
    "\n",
    "    if type(i) == str:\n",
    "        i= ast.literal_eval(i)\n",
    "    \n",
    "    new_column.append(i)"
   ]
  },
  {
   "cell_type": "code",
   "execution_count": 503,
   "metadata": {},
   "outputs": [],
   "source": [
    "directors_names=[]"
   ]
  },
  {
   "cell_type": "code",
   "execution_count": 504,
   "metadata": {},
   "outputs": [],
   "source": [
    "for i in new_column:\n",
    "\n",
    "    if type(i) == float:\n",
    "        directors_names.append(i)\n",
    "\n",
    "    \n",
    "    if type(i) == dict: \n",
    "\n",
    "        if i.get(\"job\") == 'Director':\n",
    "\n",
    "            directors_names.append(i.get(\"name\"))\n",
    "\n",
    "    \n",
    "    if type(i) == list:\n",
    "        \n",
    "        name= []\n",
    "\n",
    "        for num in range(len(i)):\n",
    "\n",
    "            if i[num].get(\"job\") == 'Director':\n",
    "\n",
    "                name.append(i[num].get(\"name\"))\n",
    "\n",
    "        directors_names.append(name)"
   ]
  },
  {
   "attachments": {},
   "cell_type": "markdown",
   "metadata": {},
   "source": [
    "Agregar nueva columna al dataframe"
   ]
  },
  {
   "cell_type": "code",
   "execution_count": 506,
   "metadata": {},
   "outputs": [],
   "source": [
    "df_credits['directors_names']= directors_names"
   ]
  },
  {
   "attachments": {},
   "cell_type": "markdown",
   "metadata": {},
   "source": [
    "Borrar columnas cast y crew que no seran utilizadas"
   ]
  },
  {
   "cell_type": "code",
   "execution_count": 507,
   "metadata": {},
   "outputs": [],
   "source": [
    "df_credits.drop(columns= ['cast', 'crew'], inplace= True )"
   ]
  },
  {
   "attachments": {},
   "cell_type": "markdown",
   "metadata": {},
   "source": [
    "Cambiar el tipo de dato de id a int"
   ]
  },
  {
   "cell_type": "code",
   "execution_count": 508,
   "metadata": {},
   "outputs": [],
   "source": [
    "df_movies['id'] = df_movies['id'].astype('int64')"
   ]
  },
  {
   "attachments": {},
   "cell_type": "markdown",
   "metadata": {},
   "source": [
    "Mergear ambos dataframes por la columna en comun ID"
   ]
  },
  {
   "cell_type": "code",
   "execution_count": 509,
   "metadata": {},
   "outputs": [],
   "source": [
    "df_total = pd.merge(df_movies, df_credits, on='id', how='left')"
   ]
  },
  {
   "cell_type": "code",
   "execution_count": 510,
   "metadata": {},
   "outputs": [
    {
     "data": {
      "text/plain": [
       "Index(['budget', 'id', 'original_language', 'overview', 'popularity',\n",
       "       'release_date', 'revenue', 'runtime', 'status', 'tagline', 'title',\n",
       "       'vote_average', 'vote_count', 'id_collection', 'name_collection',\n",
       "       'poster_path_collection', 'backdrop_path_collection', 'id_genre',\n",
       "       'name_genre', 'iso_639_1', 'name_language', 'id_production_companies',\n",
       "       'name_production_companies', 'iso_country', 'name_country',\n",
       "       'release_year', 'return', 'actors_names', 'directors_names'],\n",
       "      dtype='object')"
      ]
     },
     "execution_count": 510,
     "metadata": {},
     "output_type": "execute_result"
    }
   ],
   "source": [
    "df_total.columns"
   ]
  },
  {
   "attachments": {},
   "cell_type": "markdown",
   "metadata": {},
   "source": [
    "Guardar columnas descartadas por el momento en otro csv"
   ]
  },
  {
   "cell_type": "code",
   "execution_count": 511,
   "metadata": {},
   "outputs": [],
   "source": [
    "descarte= df_total[['id_collection','poster_path_collection', 'backdrop_path_collection', 'id_genre', 'iso_639_1', 'id_production_companies', 'iso_country']]"
   ]
  },
  {
   "cell_type": "code",
   "execution_count": 512,
   "metadata": {},
   "outputs": [],
   "source": [
    "descarte.to_csv('descarte.csv', index=False)"
   ]
  },
  {
   "attachments": {},
   "cell_type": "markdown",
   "metadata": {},
   "source": [
    "Eliminar esas columnas del dataframe original"
   ]
  },
  {
   "cell_type": "code",
   "execution_count": 513,
   "metadata": {},
   "outputs": [],
   "source": [
    "df_total.drop(columns= ['id_collection','poster_path_collection', 'backdrop_path_collection', 'id_genre', 'iso_639_1', 'id_production_companies', 'iso_country'], inplace= True)"
   ]
  },
  {
   "attachments": {},
   "cell_type": "markdown",
   "metadata": {},
   "source": [
    "Resetear index"
   ]
  },
  {
   "cell_type": "code",
   "execution_count": 515,
   "metadata": {},
   "outputs": [],
   "source": [
    "df_total.reset_index(inplace=True)\n",
    "df_total.drop(columns='index', inplace= True)"
   ]
  },
  {
   "attachments": {},
   "cell_type": "markdown",
   "metadata": {},
   "source": [
    "Extraer dataframe total"
   ]
  },
  {
   "cell_type": "code",
   "execution_count": 516,
   "metadata": {},
   "outputs": [],
   "source": [
    "df_total.to_csv('proyecto1.csv', index=False)"
   ]
  }
 ],
 "metadata": {
  "kernelspec": {
   "display_name": "Python 3",
   "language": "python",
   "name": "python3"
  },
  "language_info": {
   "codemirror_mode": {
    "name": "ipython",
    "version": 3
   },
   "file_extension": ".py",
   "mimetype": "text/x-python",
   "name": "python",
   "nbconvert_exporter": "python",
   "pygments_lexer": "ipython3",
   "version": "3.10.8"
  },
  "orig_nbformat": 4
 },
 "nbformat": 4,
 "nbformat_minor": 2
}
