{
 "cells": [
  {
   "attachments": {},
   "cell_type": "markdown",
   "metadata": {},
   "source": [
    "Importar csv desde un link de google drive y ver que tienen integrado, cuales son las variables y que tipo de datos contienen"
   ]
  },
  {
   "attachments": {},
   "cell_type": "markdown",
   "metadata": {},
   "source": [
    "Los archivos a utilizar en el siguiente notebook se pueden encontrar en https://drive.google.com/drive/folders/1Zauxz1bBC6ZKu874hS-VV2_mSCRZo444?usp=sharing"
   ]
  },
  {
   "cell_type": "code",
   "execution_count": 441,
   "metadata": {},
   "outputs": [],
   "source": [
    "import pandas as pd\n",
    "import numpy as np"
   ]
  },
  {
   "cell_type": "code",
   "execution_count": null,
   "metadata": {},
   "outputs": [],
   "source": [
    "df_movies = pd.read_csv('movies_dataset', sep=',', encoding= 'utf-8')"
   ]
  },
  {
   "attachments": {},
   "cell_type": "markdown",
   "metadata": {},
   "source": [
    "Eliminar las columnas que no serán utilizadas, video,imdb_id,adult,original_title,poster_path y homepage."
   ]
  },
  {
   "cell_type": "code",
   "execution_count": 443,
   "metadata": {},
   "outputs": [],
   "source": [
    "df_movies.drop(columns= ['video', 'imdb_id', 'adult', 'original_title', 'poster_path', 'homepage'], inplace=True)"
   ]
  },
  {
   "attachments": {},
   "cell_type": "markdown",
   "metadata": {},
   "source": [
    "Los valores nulos del campo release date deben eliminarse."
   ]
  },
  {
   "cell_type": "code",
   "execution_count": 444,
   "metadata": {},
   "outputs": [
    {
     "data": {
      "text/plain": [
       "0"
      ]
     },
     "execution_count": 444,
     "metadata": {},
     "output_type": "execute_result"
    }
   ],
   "source": [
    "df_movies.dropna(subset= ['release_date'], inplace=True)\n",
    "df_movies['release_date'].isna().sum()"
   ]
  },
  {
   "attachments": {},
   "cell_type": "markdown",
   "metadata": {},
   "source": [
    "Los valores nulos de los campos revenue, budget deben ser rellenados por el número 0."
   ]
  },
  {
   "cell_type": "code",
   "execution_count": 445,
   "metadata": {},
   "outputs": [],
   "source": [
    "df_movies.revenue.fillna(0, inplace=True)\n",
    "df_movies.budget.fillna(0, inplace=True)"
   ]
  },
  {
   "attachments": {},
   "cell_type": "markdown",
   "metadata": {},
   "source": [
    "Libreria ast"
   ]
  },
  {
   "cell_type": "code",
   "execution_count": 446,
   "metadata": {},
   "outputs": [],
   "source": [
    "import ast\n",
    "\n",
    "new_column= []\n",
    "\n",
    "for i in df_movies['belongs_to_collection']:\n",
    "\n",
    "    if type(i) == str:\n",
    "        i= ast.literal_eval(i)\n",
    "    \n",
    "    new_column.append(i)"
   ]
  },
  {
   "cell_type": "code",
   "execution_count": 447,
   "metadata": {},
   "outputs": [],
   "source": [
    "id_values= []\n",
    "name_values= []\n",
    "poster_path= []\n",
    "backdrop_path= []"
   ]
  },
  {
   "cell_type": "code",
   "execution_count": 448,
   "metadata": {},
   "outputs": [],
   "source": [
    "for i in new_column:\n",
    "    if type(i) == float: id_values.append(i), name_values.append(i), poster_path.append(i), backdrop_path.append(i)\n",
    "    \n",
    "    if type(i) == dict: \n",
    "\n",
    "        id_values.append(i.get(\"id\"))\n",
    "        name_values.append(i.get(\"name\"))\n",
    "        poster_path.append(i.get(\"poster_path\"))\n",
    "        backdrop_path.append(i.get(\"backdrop_path\"))"
   ]
  },
  {
   "attachments": {},
   "cell_type": "markdown",
   "metadata": {},
   "source": [
    "Agregar nuevas columnas al dataframe"
   ]
  },
  {
   "cell_type": "code",
   "execution_count": 449,
   "metadata": {},
   "outputs": [],
   "source": [
    "df_movies['id_collection']= id_values\n",
    "df_movies['name_collection']= name_values\n",
    "df_movies['poster_path_collection']= poster_path\n",
    "df_movies['backdrop_path_collection']= backdrop_path"
   ]
  },
  {
   "attachments": {},
   "cell_type": "markdown",
   "metadata": {},
   "source": [
    "Desanidar columna genres"
   ]
  },
  {
   "cell_type": "code",
   "execution_count": 450,
   "metadata": {},
   "outputs": [],
   "source": [
    "import ast\n",
    "\n",
    "new_column= []\n",
    "\n",
    "for i in df_movies['genres']:\n",
    "\n",
    "    if type(i) == str:\n",
    "        i= ast.literal_eval(i)\n",
    "    \n",
    "    new_column.append(i)"
   ]
  },
  {
   "cell_type": "code",
   "execution_count": 451,
   "metadata": {},
   "outputs": [],
   "source": [
    "id_genre=[]\n",
    "name_genre=[]"
   ]
  },
  {
   "cell_type": "code",
   "execution_count": 452,
   "metadata": {},
   "outputs": [],
   "source": [
    "for i in new_column:\n",
    "\n",
    "    if type(i) == float: id_genre.append(i), name_genre.append(i)\n",
    "    \n",
    "    if type(i) == dict: \n",
    "\n",
    "        id_genre.append(i.get(\"id\"))\n",
    "        name_genre.append(i.get(\"name\"))\n",
    "    \n",
    "    if type(i) == list:\n",
    "        \n",
    "        id= []\n",
    "        name= []\n",
    "\n",
    "        for num in range(len(i)):\n",
    "\n",
    "            id.append(i[num].get(\"id\"))\n",
    "            name.append(i[num].get(\"name\"))\n",
    "\n",
    "        id_genre.append(id)\n",
    "        name_genre.append(name)\n",
    "             "
   ]
  },
  {
   "attachments": {},
   "cell_type": "markdown",
   "metadata": {},
   "source": [
    "Agregar nuevas columnas al dataframe"
   ]
  },
  {
   "cell_type": "code",
   "execution_count": 453,
   "metadata": {},
   "outputs": [],
   "source": [
    "df_movies['id_genre']= id_genre\n",
    "df_movies['name_genre']= name_genre"
   ]
  },
  {
   "attachments": {},
   "cell_type": "markdown",
   "metadata": {},
   "source": [
    "Desanidar columna: spoken_languages"
   ]
  },
  {
   "cell_type": "code",
   "execution_count": 454,
   "metadata": {},
   "outputs": [],
   "source": [
    "import ast\n",
    "\n",
    "new_column= []\n",
    "\n",
    "for i in df_movies['spoken_languages']:\n",
    "\n",
    "    if type(i) == str:\n",
    "        i= ast.literal_eval(i)\n",
    "    \n",
    "    new_column.append(i)"
   ]
  },
  {
   "cell_type": "code",
   "execution_count": 455,
   "metadata": {},
   "outputs": [],
   "source": [
    "iso_639_1=[]\n",
    "name_language=[]"
   ]
  },
  {
   "cell_type": "code",
   "execution_count": 456,
   "metadata": {},
   "outputs": [],
   "source": [
    "for i in new_column:\n",
    "\n",
    "    if type(i) == float: iso_639_1.append(i), name_language.append(i)\n",
    "    \n",
    "    if type(i) == dict: \n",
    "\n",
    "        iso_639_1.append(i.get(\"iso_639_1\"))\n",
    "        name_language.append(i.get(\"name\"))\n",
    "    \n",
    "    if type(i) == list:\n",
    "        \n",
    "        id= []\n",
    "        name= []\n",
    "\n",
    "        for num in range(len(i)):\n",
    "\n",
    "            id.append(i[num].get(\"iso_639_1\"))\n",
    "            name.append(i[num].get(\"name\"))\n",
    "\n",
    "        iso_639_1.append(id)\n",
    "        name_language.append(name)"
   ]
  },
  {
   "attachments": {},
   "cell_type": "markdown",
   "metadata": {},
   "source": [
    "Agregar nuevas columnas al dataframe"
   ]
  },
  {
   "cell_type": "code",
   "execution_count": 457,
   "metadata": {},
   "outputs": [],
   "source": [
    "df_movies['iso_639_1']= iso_639_1\n",
    "df_movies['name_language']= name_language"
   ]
  },
  {
   "attachments": {},
   "cell_type": "markdown",
   "metadata": {},
   "source": [
    "Desanidar columna production_companies"
   ]
  },
  {
   "cell_type": "code",
   "execution_count": 458,
   "metadata": {},
   "outputs": [],
   "source": [
    "import ast\n",
    "\n",
    "new_column= []"
   ]
  },
  {
   "cell_type": "code",
   "execution_count": 459,
   "metadata": {},
   "outputs": [],
   "source": [
    "for i in df_movies['production_companies']:\n",
    "\n",
    "    if type(i) == str:\n",
    "        i= ast.literal_eval(i)\n",
    "    \n",
    "    new_column.append(i)"
   ]
  },
  {
   "attachments": {},
   "cell_type": "markdown",
   "metadata": {},
   "source": [
    "Transformar el valor de algunos registros que contenian una variable booleana: False. Esto no permitia desanidar la columna 'production_companies'"
   ]
  },
  {
   "cell_type": "code",
   "execution_count": 460,
   "metadata": {},
   "outputs": [
    {
     "name": "stdout",
     "output_type": "stream",
     "text": [
      "19714 False\n",
      "29472 False\n",
      "35543 False\n"
     ]
    }
   ],
   "source": [
    "for i, var in enumerate (new_column):\n",
    "    \n",
    "    if type(var) != list: print(i, var)"
   ]
  },
  {
   "cell_type": "code",
   "execution_count": 461,
   "metadata": {},
   "outputs": [],
   "source": [
    "new_column[19714] = []\n",
    "new_column[29472] = []\n",
    "new_column[35543] = []"
   ]
  },
  {
   "cell_type": "code",
   "execution_count": 462,
   "metadata": {},
   "outputs": [],
   "source": [
    "id_production_companies=[]\n",
    "name_production_companies=[]"
   ]
  },
  {
   "cell_type": "code",
   "execution_count": 463,
   "metadata": {},
   "outputs": [],
   "source": [
    "for i in new_column:\n",
    "\n",
    "    if type(i) == float:\n",
    "        id_production_companies.append(i), name_language.append(i)\n",
    "\n",
    "    \n",
    "    if type(i) == dict: \n",
    "\n",
    "        id_production_companies.append(i.get(\"id\"))\n",
    "        name_production_companies.append(i.get(\"name\"))\n",
    "    \n",
    "    if type(i) == list:\n",
    "        \n",
    "        id= []\n",
    "        name= []\n",
    "\n",
    "        for num in range(len(i)):\n",
    "\n",
    "            id.append(i[num].get(\"id\"))\n",
    "            name.append(i[num].get(\"name\"))\n",
    "\n",
    "        id_production_companies.append(id)\n",
    "        name_production_companies.append(name)\n",
    "\n"
   ]
  },
  {
   "attachments": {},
   "cell_type": "markdown",
   "metadata": {},
   "source": [
    "Agregar nuevas columnas al dataframe"
   ]
  },
  {
   "cell_type": "code",
   "execution_count": 464,
   "metadata": {},
   "outputs": [],
   "source": [
    "df_movies['id_production_companies']= id_production_companies\n",
    "df_movies['name_production_companies']= name_production_companies"
   ]
  },
  {
   "attachments": {},
   "cell_type": "markdown",
   "metadata": {},
   "source": [
    "Desanidar columna: production_countries"
   ]
  },
  {
   "cell_type": "code",
   "execution_count": 465,
   "metadata": {},
   "outputs": [],
   "source": [
    "import ast\n",
    "\n",
    "new_column= []"
   ]
  },
  {
   "cell_type": "code",
   "execution_count": 466,
   "metadata": {},
   "outputs": [],
   "source": [
    "for i in df_movies['production_countries']:\n",
    "\n",
    "    if type(i) == str:\n",
    "        i= ast.literal_eval(i)\n",
    "    \n",
    "    new_column.append(i)"
   ]
  },
  {
   "cell_type": "code",
   "execution_count": 467,
   "metadata": {},
   "outputs": [],
   "source": [
    "iso_country=[]\n",
    "name_country=[]"
   ]
  },
  {
   "cell_type": "code",
   "execution_count": 468,
   "metadata": {},
   "outputs": [],
   "source": [
    "for i in new_column:\n",
    "\n",
    "    if type(i) == float:\n",
    "        iso_country.append(i), name_country.append(i)\n",
    "\n",
    "    \n",
    "    if type(i) == dict: \n",
    "\n",
    "        iso_country.append(i.get(\"iso_3166_1\"))\n",
    "        name_country.append(i.get(\"name\"))\n",
    "    \n",
    "    if type(i) == list:\n",
    "        \n",
    "        id= []\n",
    "        name= []\n",
    "\n",
    "        for num in range(len(i)):\n",
    "\n",
    "            id.append(i[num].get(\"iso_3166_1\"))\n",
    "            name.append(i[num].get(\"name\"))\n",
    "\n",
    "        iso_country.append(id)\n",
    "        name_country.append(name)"
   ]
  },
  {
   "attachments": {},
   "cell_type": "markdown",
   "metadata": {},
   "source": [
    "Agregar nuevas columnas al dataframe"
   ]
  },
  {
   "cell_type": "code",
   "execution_count": 469,
   "metadata": {},
   "outputs": [],
   "source": [
    "df_movies['iso_country']= iso_country\n",
    "df_movies['name_country']= name_country"
   ]
  },
  {
   "attachments": {},
   "cell_type": "markdown",
   "metadata": {},
   "source": [
    "Quitar columnas desanidadas del dataframe"
   ]
  },
  {
   "cell_type": "code",
   "execution_count": 470,
   "metadata": {},
   "outputs": [],
   "source": [
    "df_movies.drop(columns= ['belongs_to_collection', 'spoken_languages', 'genres', 'production_countries', 'production_companies'], inplace=True)"
   ]
  },
  {
   "attachments": {},
   "cell_type": "markdown",
   "metadata": {},
   "source": [
    "Extraer este dataframe como un csv, solo con las primeras instrucciones y los campos desanidados"
   ]
  },
  {
   "cell_type": "code",
   "execution_count": 471,
   "metadata": {},
   "outputs": [],
   "source": [
    "df_movies.to_csv('movies_desanidado.csv', index=False)"
   ]
  },
  {
   "attachments": {},
   "cell_type": "markdown",
   "metadata": {},
   "source": [
    "Algunos datos de la columna 'Budget' contenian strings en vez de numeros, esas filas ademas tenian mal la mayoria de las columnas por lo que son eliminadas"
   ]
  },
  {
   "cell_type": "code",
   "execution_count": 474,
   "metadata": {},
   "outputs": [
    {
     "data": {
      "text/html": [
       "<div>\n",
       "<style scoped>\n",
       "    .dataframe tbody tr th:only-of-type {\n",
       "        vertical-align: middle;\n",
       "    }\n",
       "\n",
       "    .dataframe tbody tr th {\n",
       "        vertical-align: top;\n",
       "    }\n",
       "\n",
       "    .dataframe thead th {\n",
       "        text-align: right;\n",
       "    }\n",
       "</style>\n",
       "<table border=\"1\" class=\"dataframe\">\n",
       "  <thead>\n",
       "    <tr style=\"text-align: right;\">\n",
       "      <th></th>\n",
       "      <th>budget</th>\n",
       "      <th>id</th>\n",
       "      <th>original_language</th>\n",
       "      <th>overview</th>\n",
       "      <th>popularity</th>\n",
       "      <th>release_date</th>\n",
       "      <th>revenue</th>\n",
       "      <th>runtime</th>\n",
       "      <th>status</th>\n",
       "      <th>tagline</th>\n",
       "      <th>...</th>\n",
       "      <th>poster_path_collection</th>\n",
       "      <th>backdrop_path_collection</th>\n",
       "      <th>id_genre</th>\n",
       "      <th>name_genre</th>\n",
       "      <th>iso_639_1</th>\n",
       "      <th>name_language</th>\n",
       "      <th>id_production_companies</th>\n",
       "      <th>name_production_companies</th>\n",
       "      <th>iso_country</th>\n",
       "      <th>name_country</th>\n",
       "    </tr>\n",
       "  </thead>\n",
       "  <tbody>\n",
       "    <tr>\n",
       "      <th>19730</th>\n",
       "      <td>/ff9qCepilowshEtG2GYWwzt2bs4.jpg</td>\n",
       "      <td>1997-08-20</td>\n",
       "      <td>104.0</td>\n",
       "      <td>Released</td>\n",
       "      <td>NaN</td>\n",
       "      <td>1</td>\n",
       "      <td>0.0</td>\n",
       "      <td>NaN</td>\n",
       "      <td>NaN</td>\n",
       "      <td>NaN</td>\n",
       "      <td>...</td>\n",
       "      <td>0.065736</td>\n",
       "      <td>0.065736</td>\n",
       "      <td>[11176, 11602, 29812]</td>\n",
       "      <td>[Carousel Productions, Vision View Entertainme...</td>\n",
       "      <td>NaN</td>\n",
       "      <td>NaN</td>\n",
       "      <td>[]</td>\n",
       "      <td>[]</td>\n",
       "      <td>6.0</td>\n",
       "      <td>6.0</td>\n",
       "    </tr>\n",
       "    <tr>\n",
       "      <th>29503</th>\n",
       "      <td>/zV8bHuSL6WXoD6FWogP9j4x80bL.jpg</td>\n",
       "      <td>2012-09-29</td>\n",
       "      <td>68.0</td>\n",
       "      <td>Released</td>\n",
       "      <td>NaN</td>\n",
       "      <td>12</td>\n",
       "      <td>0.0</td>\n",
       "      <td>NaN</td>\n",
       "      <td>NaN</td>\n",
       "      <td>NaN</td>\n",
       "      <td>...</td>\n",
       "      <td>1.931659</td>\n",
       "      <td>1.931659</td>\n",
       "      <td>[2883, 7759, 7760, 7761, 33751]</td>\n",
       "      <td>[Aniplex, GoHands, BROSTA TV, Mardock Scramble...</td>\n",
       "      <td>NaN</td>\n",
       "      <td>NaN</td>\n",
       "      <td>[]</td>\n",
       "      <td>[]</td>\n",
       "      <td>7.0</td>\n",
       "      <td>7.0</td>\n",
       "    </tr>\n",
       "    <tr>\n",
       "      <th>35587</th>\n",
       "      <td>/zaSf5OG7V8X8gqFvly88zDdRm46.jpg</td>\n",
       "      <td>2014-01-01</td>\n",
       "      <td>82.0</td>\n",
       "      <td>Released</td>\n",
       "      <td>Beware Of Frost Bites</td>\n",
       "      <td>22</td>\n",
       "      <td>0.0</td>\n",
       "      <td>NaN</td>\n",
       "      <td>NaN</td>\n",
       "      <td>NaN</td>\n",
       "      <td>...</td>\n",
       "      <td>2.185485</td>\n",
       "      <td>2.185485</td>\n",
       "      <td>[17161, 18012, 18013, 23822]</td>\n",
       "      <td>[Odyssey Media, Pulser Productions, Rogue Stat...</td>\n",
       "      <td>NaN</td>\n",
       "      <td>NaN</td>\n",
       "      <td>[]</td>\n",
       "      <td>[]</td>\n",
       "      <td>4.3</td>\n",
       "      <td>4.3</td>\n",
       "    </tr>\n",
       "  </tbody>\n",
       "</table>\n",
       "<p>3 rows × 25 columns</p>\n",
       "</div>"
      ],
      "text/plain": [
       "                                 budget          id original_language  \\\n",
       "19730  /ff9qCepilowshEtG2GYWwzt2bs4.jpg  1997-08-20             104.0   \n",
       "29503  /zV8bHuSL6WXoD6FWogP9j4x80bL.jpg  2012-09-29              68.0   \n",
       "35587  /zaSf5OG7V8X8gqFvly88zDdRm46.jpg  2014-01-01              82.0   \n",
       "\n",
       "       overview             popularity release_date  revenue  runtime status  \\\n",
       "19730  Released                    NaN            1      0.0      NaN    NaN   \n",
       "29503  Released                    NaN           12      0.0      NaN    NaN   \n",
       "35587  Released  Beware Of Frost Bites           22      0.0      NaN    NaN   \n",
       "\n",
       "      tagline  ... poster_path_collection  backdrop_path_collection  \\\n",
       "19730     NaN  ...               0.065736                  0.065736   \n",
       "29503     NaN  ...               1.931659                  1.931659   \n",
       "35587     NaN  ...               2.185485                  2.185485   \n",
       "\n",
       "                              id_genre  \\\n",
       "19730            [11176, 11602, 29812]   \n",
       "29503  [2883, 7759, 7760, 7761, 33751]   \n",
       "35587     [17161, 18012, 18013, 23822]   \n",
       "\n",
       "                                              name_genre iso_639_1  \\\n",
       "19730  [Carousel Productions, Vision View Entertainme...       NaN   \n",
       "29503  [Aniplex, GoHands, BROSTA TV, Mardock Scramble...       NaN   \n",
       "35587  [Odyssey Media, Pulser Productions, Rogue Stat...       NaN   \n",
       "\n",
       "      name_language id_production_companies name_production_companies  \\\n",
       "19730           NaN                      []                        []   \n",
       "29503           NaN                      []                        []   \n",
       "35587           NaN                      []                        []   \n",
       "\n",
       "      iso_country name_country  \n",
       "19730         6.0          6.0  \n",
       "29503         7.0          7.0  \n",
       "35587         4.3          4.3  \n",
       "\n",
       "[3 rows x 25 columns]"
      ]
     },
     "execution_count": 474,
     "metadata": {},
     "output_type": "execute_result"
    }
   ],
   "source": [
    "df_movies[df_movies['budget'].str.contains('jpg')]"
   ]
  },
  {
   "attachments": {},
   "cell_type": "markdown",
   "metadata": {},
   "source": [
    "Reindexamos el dataframe para saber en que puesto exacto estan las filas a borrar"
   ]
  },
  {
   "cell_type": "code",
   "execution_count": 475,
   "metadata": {},
   "outputs": [],
   "source": [
    "df_movies.reset_index(inplace=True, drop=True)"
   ]
  },
  {
   "cell_type": "code",
   "execution_count": 476,
   "metadata": {},
   "outputs": [],
   "source": [
    "df_movies.drop(labels= [19714, 29472, 35543], axis= 0, inplace=True)"
   ]
  },
  {
   "cell_type": "code",
   "execution_count": 477,
   "metadata": {},
   "outputs": [],
   "source": [
    "df_movies['budget'] = df_movies['budget'].astype('float64')"
   ]
  },
  {
   "attachments": {},
   "cell_type": "markdown",
   "metadata": {},
   "source": [
    "Acomodar el formato de datetime de la columna release_date"
   ]
  },
  {
   "cell_type": "code",
   "execution_count": null,
   "metadata": {},
   "outputs": [],
   "source": [
    "df_movies['release_date'].info()"
   ]
  },
  {
   "cell_type": "code",
   "execution_count": 479,
   "metadata": {},
   "outputs": [],
   "source": [
    "df_movies['release_date']= pd.to_datetime(df_movies['release_date'], yearfirst=True)"
   ]
  },
  {
   "attachments": {},
   "cell_type": "markdown",
   "metadata": {},
   "source": [
    "Crear columna release_year"
   ]
  },
  {
   "cell_type": "code",
   "execution_count": 481,
   "metadata": {},
   "outputs": [],
   "source": [
    "import datetime"
   ]
  },
  {
   "cell_type": "code",
   "execution_count": 482,
   "metadata": {},
   "outputs": [],
   "source": [
    "release_year= []\n",
    "\n",
    "for i in df_movies['release_date']:\n",
    "    release_year.append(i.year)"
   ]
  },
  {
   "cell_type": "code",
   "execution_count": 483,
   "metadata": {},
   "outputs": [],
   "source": [
    "df_movies['release_year']= release_year"
   ]
  },
  {
   "attachments": {},
   "cell_type": "markdown",
   "metadata": {},
   "source": [
    "Quitar valores duplicados segun la ID. Decido quitarlos para no tener informacion sobre la misma pelicula de forma repetida."
   ]
  },
  {
   "cell_type": "code",
   "execution_count": null,
   "metadata": {},
   "outputs": [],
   "source": [
    "df_movies.id.value_counts()"
   ]
  },
  {
   "cell_type": "code",
   "execution_count": 485,
   "metadata": {},
   "outputs": [],
   "source": [
    "df_movies.drop_duplicates(subset=['id'], inplace=True)"
   ]
  },
  {
   "attachments": {},
   "cell_type": "markdown",
   "metadata": {},
   "source": [
    "Creacion de la columna return"
   ]
  },
  {
   "cell_type": "code",
   "execution_count": 487,
   "metadata": {},
   "outputs": [],
   "source": [
    "def movie_return(row):\n",
    "        if row['budget'] == 0:\n",
    "                return 0\n",
    "        else:\n",
    "                return (row['revenue']/row['budget'])"
   ]
  },
  {
   "cell_type": "code",
   "execution_count": 488,
   "metadata": {},
   "outputs": [],
   "source": [
    "df_movies['return'] = df_movies.apply(movie_return, axis=1)"
   ]
  },
  {
   "attachments": {},
   "cell_type": "markdown",
   "metadata": {},
   "source": [
    "Extraer datos necesarios del otro dataset: 'credits.csv'"
   ]
  },
  {
   "cell_type": "code",
   "execution_count": 489,
   "metadata": {},
   "outputs": [],
   "source": [
    "df_credits = pd.read_csv('credits.csv', sep=',', encoding= 'utf-8')"
   ]
  },
  {
   "cell_type": "code",
   "execution_count": null,
   "metadata": {},
   "outputs": [],
   "source": [
    "df_credits.head()"
   ]
  },
  {
   "attachments": {},
   "cell_type": "markdown",
   "metadata": {},
   "source": [
    "Desanidar actor"
   ]
  },
  {
   "attachments": {},
   "cell_type": "markdown",
   "metadata": {},
   "source": [
    "Verificando que tipo de dato son los registros"
   ]
  },
  {
   "cell_type": "code",
   "execution_count": 490,
   "metadata": {},
   "outputs": [
    {
     "data": {
      "text/plain": [
       "str"
      ]
     },
     "execution_count": 490,
     "metadata": {},
     "output_type": "execute_result"
    }
   ],
   "source": [
    "type(df_credits.cast[0])"
   ]
  },
  {
   "attachments": {},
   "cell_type": "markdown",
   "metadata": {},
   "source": [
    "Verificando que no existan nulos"
   ]
  },
  {
   "cell_type": "code",
   "execution_count": 491,
   "metadata": {},
   "outputs": [
    {
     "data": {
      "text/plain": [
       "0"
      ]
     },
     "execution_count": 491,
     "metadata": {},
     "output_type": "execute_result"
    }
   ],
   "source": [
    "df_credits.cast.isna().sum()"
   ]
  },
  {
   "attachments": {},
   "cell_type": "markdown",
   "metadata": {},
   "source": [
    "Desanidar solo los nombres de los actores"
   ]
  },
  {
   "cell_type": "code",
   "execution_count": 492,
   "metadata": {},
   "outputs": [],
   "source": [
    "import ast\n",
    "\n",
    "new_column= []"
   ]
  },
  {
   "cell_type": "code",
   "execution_count": 493,
   "metadata": {},
   "outputs": [],
   "source": [
    "for i in df_credits['cast']:\n",
    "\n",
    "    if type(i) == str:\n",
    "        i= ast.literal_eval(i)\n",
    "    \n",
    "    new_column.append(i)"
   ]
  },
  {
   "cell_type": "code",
   "execution_count": 494,
   "metadata": {},
   "outputs": [],
   "source": [
    "actors_names=[]"
   ]
  },
  {
   "cell_type": "code",
   "execution_count": 495,
   "metadata": {},
   "outputs": [],
   "source": [
    "for i in new_column:\n",
    "\n",
    "    if type(i) == float:\n",
    "        actors_names.append(i)\n",
    "\n",
    "    \n",
    "    if type(i) == dict: \n",
    "\n",
    "        actors_names.append(i.get(\"name\"))\n",
    "    \n",
    "    if type(i) == list:\n",
    "        \n",
    "        name= []\n",
    "\n",
    "        for num in range(len(i)):\n",
    "\n",
    "            name.append(i[num].get(\"name\"))\n",
    "\n",
    "        actors_names.append(name)"
   ]
  },
  {
   "attachments": {},
   "cell_type": "markdown",
   "metadata": {},
   "source": [
    "Agregar la nueva columna al dataframe"
   ]
  },
  {
   "cell_type": "code",
   "execution_count": 496,
   "metadata": {},
   "outputs": [],
   "source": [
    "df_credits['actors_names']= actors_names"
   ]
  },
  {
   "attachments": {},
   "cell_type": "markdown",
   "metadata": {},
   "source": [
    "Desanidar directores"
   ]
  },
  {
   "cell_type": "code",
   "execution_count": 497,
   "metadata": {},
   "outputs": [
    {
     "data": {
      "text/plain": [
       "'[{\\'credit_id\\': \\'52fe4284c3a36847f8024f49\\', \\'department\\': \\'Directing\\', \\'gender\\': 2, \\'id\\': 7879, \\'job\\': \\'Director\\', \\'name\\': \\'John Lasseter\\', \\'profile_path\\': \\'/7EdqiNbr4FRjIhKHyPPdFfEEEFG.jpg\\'}, {\\'credit_id\\': \\'52fe4284c3a36847f8024f4f\\', \\'department\\': \\'Writing\\', \\'gender\\': 2, \\'id\\': 12891, \\'job\\': \\'Screenplay\\', \\'name\\': \\'Joss Whedon\\', \\'profile_path\\': \\'/dTiVsuaTVTeGmvkhcyJvKp2A5kr.jpg\\'}, {\\'credit_id\\': \\'52fe4284c3a36847f8024f55\\', \\'department\\': \\'Writing\\', \\'gender\\': 2, \\'id\\': 7, \\'job\\': \\'Screenplay\\', \\'name\\': \\'Andrew Stanton\\', \\'profile_path\\': \\'/pvQWsu0qc8JFQhMVJkTHuexUAa1.jpg\\'}, {\\'credit_id\\': \\'52fe4284c3a36847f8024f5b\\', \\'department\\': \\'Writing\\', \\'gender\\': 2, \\'id\\': 12892, \\'job\\': \\'Screenplay\\', \\'name\\': \\'Joel Cohen\\', \\'profile_path\\': \\'/dAubAiZcvKFbboWlj7oXOkZnTSu.jpg\\'}, {\\'credit_id\\': \\'52fe4284c3a36847f8024f61\\', \\'department\\': \\'Writing\\', \\'gender\\': 0, \\'id\\': 12893, \\'job\\': \\'Screenplay\\', \\'name\\': \\'Alec Sokolow\\', \\'profile_path\\': \\'/v79vlRYi94BZUQnkkyznbGUZLjT.jpg\\'}, {\\'credit_id\\': \\'52fe4284c3a36847f8024f67\\', \\'department\\': \\'Production\\', \\'gender\\': 1, \\'id\\': 12894, \\'job\\': \\'Producer\\', \\'name\\': \\'Bonnie Arnold\\', \\'profile_path\\': None}, {\\'credit_id\\': \\'52fe4284c3a36847f8024f6d\\', \\'department\\': \\'Production\\', \\'gender\\': 0, \\'id\\': 12895, \\'job\\': \\'Executive Producer\\', \\'name\\': \\'Ed Catmull\\', \\'profile_path\\': None}, {\\'credit_id\\': \\'52fe4284c3a36847f8024f73\\', \\'department\\': \\'Production\\', \\'gender\\': 2, \\'id\\': 12896, \\'job\\': \\'Producer\\', \\'name\\': \\'Ralph Guggenheim\\', \\'profile_path\\': None}, {\\'credit_id\\': \\'52fe4284c3a36847f8024f79\\', \\'department\\': \\'Production\\', \\'gender\\': 2, \\'id\\': 12897, \\'job\\': \\'Executive Producer\\', \\'name\\': \\'Steve Jobs\\', \\'profile_path\\': \\'/mOMP3SwD5qWQSR0ldCIByd3guTV.jpg\\'}, {\\'credit_id\\': \\'52fe4284c3a36847f8024f8b\\', \\'department\\': \\'Editing\\', \\'gender\\': 2, \\'id\\': 8, \\'job\\': \\'Editor\\', \\'name\\': \\'Lee Unkrich\\', \\'profile_path\\': \\'/bdTCCXjgOV3YyaNmLGYGOxFQMOc.jpg\\'}, {\\'credit_id\\': \\'52fe4284c3a36847f8024f91\\', \\'department\\': \\'Art\\', \\'gender\\': 2, \\'id\\': 7883, \\'job\\': \\'Art Direction\\', \\'name\\': \\'Ralph Eggleston\\', \\'profile_path\\': \\'/uUfcGKDsKO1aROMpXRs67Hn6RvR.jpg\\'}, {\\'credit_id\\': \\'598331bf925141421201044b\\', \\'department\\': \\'Editing\\', \\'gender\\': 2, \\'id\\': 1168870, \\'job\\': \\'Editor\\', \\'name\\': \\'Robert Gordon\\', \\'profile_path\\': None}, {\\'credit_id\\': \\'5892168cc3a36809660095f9\\', \\'department\\': \\'Sound\\', \\'gender\\': 0, \\'id\\': 1552883, \\'job\\': \\'Foley Editor\\', \\'name\\': \\'Mary Helen Leasman\\', \\'profile_path\\': None}, {\\'credit_id\\': \\'5531824d9251415289000945\\', \\'department\\': \\'Visual Effects\\', \\'gender\\': 0, \\'id\\': 1453514, \\'job\\': \\'Animation\\', \\'name\\': \\'Kim Blanchette\\', \\'profile_path\\': None}, {\\'credit_id\\': \\'589215969251412dcb009bf6\\', \\'department\\': \\'Sound\\', \\'gender\\': 0, \\'id\\': 1414182, \\'job\\': \\'ADR Editor\\', \\'name\\': \\'Marilyn McCoppen\\', \\'profile_path\\': None}, {\\'credit_id\\': \\'589217099251412dc500a018\\', \\'department\\': \\'Sound\\', \\'gender\\': 2, \\'id\\': 7885, \\'job\\': \\'Orchestrator\\', \\'name\\': \\'Randy Newman\\', \\'profile_path\\': \\'/w0JzfoiM25nrnxYOzosPHRq6mlE.jpg\\'}, {\\'credit_id\\': \\'5693e6b29251417b0e0000e3\\', \\'department\\': \\'Editing\\', \\'gender\\': 0, \\'id\\': 1429549, \\'job\\': \\'Color Timer\\', \\'name\\': \\'Dale E. Grahn\\', \\'profile_path\\': None}, {\\'credit_id\\': \\'572e2522c3a36869e6001a9c\\', \\'department\\': \\'Visual Effects\\', \\'gender\\': 0, \\'id\\': 7949, \\'job\\': \\'CG Painter\\', \\'name\\': \\'Robin Cooper\\', \\'profile_path\\': None}, {\\'credit_id\\': \\'574f12309251415ca1000012\\', \\'department\\': \\'Writing\\', \\'gender\\': 2, \\'id\\': 7879, \\'job\\': \\'Original Story\\', \\'name\\': \\'John Lasseter\\', \\'profile_path\\': \\'/7EdqiNbr4FRjIhKHyPPdFfEEEFG.jpg\\'}, {\\'credit_id\\': \\'574f1240c3a3682e7300001c\\', \\'department\\': \\'Writing\\', \\'gender\\': 2, \\'id\\': 12890, \\'job\\': \\'Original Story\\', \\'name\\': \\'Pete Docter\\', \\'profile_path\\': \\'/r6ngPgnReA3RHmKjmSoVsc6Awjp.jpg\\'}, {\\'credit_id\\': \\'574f12519251415c92000015\\', \\'department\\': \\'Writing\\', \\'gender\\': 0, \\'id\\': 7911, \\'job\\': \\'Original Story\\', \\'name\\': \\'Joe Ranft\\', \\'profile_path\\': \\'/f1BoWC2JbCcfP1e5hKfGsxkHzVU.jpg\\'}, {\\'credit_id\\': \\'574f12cec3a3682e82000022\\', \\'department\\': \\'Crew\\', \\'gender\\': 0, \\'id\\': 1629419, \\'job\\': \\'Post Production Supervisor\\', \\'name\\': \\'Patsy Bouge\\', \\'profile_path\\': None}, {\\'credit_id\\': \\'574f14f19251415ca1000082\\', \\'department\\': \\'Art\\', \\'gender\\': 0, \\'id\\': 7961, \\'job\\': \\'Sculptor\\', \\'name\\': \\'Norm DeCarlo\\', \\'profile_path\\': None}, {\\'credit_id\\': \\'5751ae4bc3a3683772002b7f\\', \\'department\\': \\'Visual Effects\\', \\'gender\\': 2, \\'id\\': 12905, \\'job\\': \\'Animation Director\\', \\'name\\': \\'Ash Brannon\\', \\'profile_path\\': \\'/6ueWgPEEBHvS3De2BHYQnYjRTig.jpg\\'}, {\\'credit_id\\': \\'5891edbe9251412dc5007cd6\\', \\'department\\': \\'Sound\\', \\'gender\\': 2, \\'id\\': 7885, \\'job\\': \\'Music\\', \\'name\\': \\'Randy Newman\\', \\'profile_path\\': \\'/w0JzfoiM25nrnxYOzosPHRq6mlE.jpg\\'}, {\\'credit_id\\': \\'589213d39251412dc8009832\\', \\'department\\': \\'Directing\\', \\'gender\\': 0, \\'id\\': 1748707, \\'job\\': \\'Layout\\', \\'name\\': \\'Roman Figun\\', \\'profile_path\\': None}, {\\'credit_id\\': \\'5892173dc3a3680968009351\\', \\'department\\': \\'Sound\\', \\'gender\\': 2, \\'id\\': 4949, \\'job\\': \\'Orchestrator\\', \\'name\\': \\'Don Davis\\', \\'profile_path\\': None}, {\\'credit_id\\': \\'589217cec3a3686b0a0052ba\\', \\'department\\': \\'Sound\\', \\'gender\\': 0, \\'id\\': 1372885, \\'job\\': \\'Music Editor\\', \\'name\\': \\'James Flamberg\\', \\'profile_path\\': None}, {\\'credit_id\\': \\'58921831c3a3686348004a64\\', \\'department\\': \\'Editing\\', \\'gender\\': 0, \\'id\\': 1739962, \\'job\\': \\'Negative Cutter\\', \\'name\\': \\'Mary Beth Smith\\', \\'profile_path\\': None}, {\\'credit_id\\': \\'58921838c3a36809700096c0\\', \\'department\\': \\'Editing\\', \\'gender\\': 0, \\'id\\': 1748513, \\'job\\': \\'Negative Cutter\\', \\'name\\': \\'Rick Mackay\\', \\'profile_path\\': None}, {\\'credit_id\\': \\'589218429251412dd1009d1b\\', \\'department\\': \\'Art\\', \\'gender\\': 0, \\'id\\': 1458006, \\'job\\': \\'Title Designer\\', \\'name\\': \\'Susan Bradley\\', \\'profile_path\\': None}, {\\'credit_id\\': \\'5891ed99c3a3680966007670\\', \\'department\\': \\'Crew\\', \\'gender\\': 0, \\'id\\': 1748557, \\'job\\': \\'Supervising Technical Director\\', \\'name\\': \\'William Reeves\\', \\'profile_path\\': None}, {\\'credit_id\\': \\'5891edcec3a3686b0a002eb2\\', \\'department\\': \\'Sound\\', \\'gender\\': 2, \\'id\\': 7885, \\'job\\': \\'Songs\\', \\'name\\': \\'Randy Newman\\', \\'profile_path\\': \\'/w0JzfoiM25nrnxYOzosPHRq6mlE.jpg\\'}, {\\'credit_id\\': \\'5891edf9c3a36809700075e6\\', \\'department\\': \\'Writing\\', \\'gender\\': 2, \\'id\\': 7, \\'job\\': \\'Original Story\\', \\'name\\': \\'Andrew Stanton\\', \\'profile_path\\': \\'/pvQWsu0qc8JFQhMVJkTHuexUAa1.jpg\\'}, {\\'credit_id\\': \\'58920f0b9251412dd7009104\\', \\'department\\': \\'Crew\\', \\'gender\\': 2, \\'id\\': 12890, \\'job\\': \\'Supervising Animator\\', \\'name\\': \\'Pete Docter\\', \\'profile_path\\': \\'/r6ngPgnReA3RHmKjmSoVsc6Awjp.jpg\\'}, {\\'credit_id\\': \\'58920f1fc3a3680977009021\\', \\'department\\': \\'Sound\\', \\'gender\\': 2, \\'id\\': 2216, \\'job\\': \\'Sound Designer\\', \\'name\\': \\'Gary Rydstrom\\', \\'profile_path\\': \\'/jZpr1nVfO7lldWI0YtmP1FGw7Rj.jpg\\'}, {\\'credit_id\\': \\'58920f389251412dd700912d\\', \\'department\\': \\'Production\\', \\'gender\\': 0, \\'id\\': 12909, \\'job\\': \\'Production Supervisor\\', \\'name\\': \\'Karen Robert Jackson\\', \\'profile_path\\': None}, {\\'credit_id\\': \\'58920fbd9251412dcb00969c\\', \\'department\\': \\'Crew\\', \\'gender\\': 0, \\'id\\': 953331, \\'job\\': \\'Executive Music Producer\\', \\'name\\': \\'Chris Montan\\', \\'profile_path\\': None}, {\\'credit_id\\': \\'589210069251412dd7009219\\', \\'department\\': \\'Visual Effects\\', \\'gender\\': 0, \\'id\\': 7893, \\'job\\': \\'Animation Director\\', \\'name\\': \\'Rich Quade\\', \\'profile_path\\': None}, {\\'credit_id\\': \\'589210329251412dcd00943b\\', \\'department\\': \\'Visual Effects\\', \\'gender\\': 0, \\'id\\': 8025, \\'job\\': \\'Animation\\', \\'name\\': \\'Michael Berenstein\\', \\'profile_path\\': None}, {\\'credit_id\\': \\'5892103bc3a368096a009180\\', \\'department\\': \\'Visual Effects\\', \\'gender\\': 0, \\'id\\': 78009, \\'job\\': \\'Animation\\', \\'name\\': \\'Colin Brady\\', \\'profile_path\\': None}, {\\'credit_id\\': \\'5892105dc3a3680968008db2\\', \\'department\\': \\'Visual Effects\\', \\'gender\\': 0, \\'id\\': 1748682, \\'job\\': \\'Animation\\', \\'name\\': \\'Davey Crockett Feiten\\', \\'profile_path\\': None}, {\\'credit_id\\': \\'589210669251412dcd009466\\', \\'department\\': \\'Visual Effects\\', \\'gender\\': 0, \\'id\\': 1454030, \\'job\\': \\'Animation\\', \\'name\\': \\'Angie Glocka\\', \\'profile_path\\': None}, {\\'credit_id\\': \\'5892107c9251412dd1009613\\', \\'department\\': \\'Visual Effects\\', \\'gender\\': 0, \\'id\\': 1748683, \\'job\\': \\'Animation\\', \\'name\\': \\'Rex Grignon\\', \\'profile_path\\': None}, {\\'credit_id\\': \\'5892108ac3a3680973008d3f\\', \\'department\\': \\'Visual Effects\\', \\'gender\\': 0, \\'id\\': 1748684, \\'job\\': \\'Animation\\', \\'name\\': \\'Tom K. Gurney\\', \\'profile_path\\': None}, {\\'credit_id\\': \\'58921093c3a3686348004477\\', \\'department\\': \\'Visual Effects\\', \\'gender\\': 2, \\'id\\': 8029, \\'job\\': \\'Animation\\', \\'name\\': \\'Jimmy Hayward\\', \\'profile_path\\': \\'/lTDRpudEY7BDwTefXbXzMlmb0ui.jpg\\'}, {\\'credit_id\\': \\'5892109b9251412dcd0094b0\\', \\'department\\': \\'Visual Effects\\', \\'gender\\': 0, \\'id\\': 1426773, \\'job\\': \\'Animation\\', \\'name\\': \\'Hal T. Hickel\\', \\'profile_path\\': None}, {\\'credit_id\\': \\'589210a29251412dc5009a29\\', \\'department\\': \\'Visual Effects\\', \\'gender\\': 0, \\'id\\': 8035, \\'job\\': \\'Animation\\', \\'name\\': \\'Karen Kiser\\', \\'profile_path\\': None}, {\\'credit_id\\': \\'589210ccc3a3680977009191\\', \\'department\\': \\'Visual Effects\\', \\'gender\\': 0, \\'id\\': 1748688, \\'job\\': \\'Animation\\', \\'name\\': \\'Anthony B. LaMolinara\\', \\'profile_path\\': None}, {\\'credit_id\\': \\'589210d7c3a3686b0a004c1f\\', \\'department\\': \\'Visual Effects\\', \\'gender\\': 0, \\'id\\': 587314, \\'job\\': \\'Animation\\', \\'name\\': \\'Guionne Leroy\\', \\'profile_path\\': None}, {\\'credit_id\\': \\'589210e1c3a36809770091a7\\', \\'department\\': \\'Visual Effects\\', \\'gender\\': 2, \\'id\\': 7918, \\'job\\': \\'Animation\\', \\'name\\': \\'Bud Luckey\\', \\'profile_path\\': \\'/pcCh7G19FKMNijmPQg1PMH1btic.jpg\\'}, {\\'credit_id\\': \\'589210ee9251412dc200978a\\', \\'department\\': \\'Visual Effects\\', \\'gender\\': 0, \\'id\\': 1748689, \\'job\\': \\'Animation\\', \\'name\\': \\'Les Major\\', \\'profile_path\\': None}, {\\'credit_id\\': \\'589210fa9251412dc8009595\\', \\'department\\': \\'Visual Effects\\', \\'gender\\': 2, \\'id\\': 7892, \\'job\\': \\'Animation\\', \\'name\\': \\'Glenn McQueen\\', \\'profile_path\\': None}, {\\'credit_id\\': \\'589211029251412dc8009598\\', \\'department\\': \\'Visual Effects\\', \\'gender\\': 0, \\'id\\': 555795, \\'job\\': \\'Animation\\', \\'name\\': \\'Mark Oftedal\\', \\'profile_path\\': None}, {\\'credit_id\\': \\'5892110b9251412dc800959d\\', \\'department\\': \\'Visual Effects\\', \\'gender\\': 2, \\'id\\': 7882, \\'job\\': \\'Animation\\', \\'name\\': \\'Jeff Pidgeon\\', \\'profile_path\\': \\'/yLddkg5HcgbJg00cS13GVBnP0HY.jpg\\'}, {\\'credit_id\\': \\'58921113c3a36863480044e4\\', \\'department\\': \\'Visual Effects\\', \\'gender\\': 0, \\'id\\': 8017, \\'job\\': \\'Animation\\', \\'name\\': \\'Jeff Pratt\\', \\'profile_path\\': None}, {\\'credit_id\\': \\'5892111c9251412dcb0097e9\\', \\'department\\': \\'Visual Effects\\', \\'gender\\': 0, \\'id\\': 1184140, \\'job\\': \\'Animation\\', \\'name\\': \\'Steve Rabatich\\', \\'profile_path\\': None}, {\\'credit_id\\': \\'58921123c3a36809700090f6\\', \\'department\\': \\'Visual Effects\\', \\'gender\\': 0, \\'id\\': 8049, \\'job\\': \\'Animation\\', \\'name\\': \\'Roger Rose\\', \\'profile_path\\': None}, {\\'credit_id\\': \\'5892112b9251412dcb0097fb\\', \\'department\\': \\'Visual Effects\\', \\'gender\\': 0, \\'id\\': 1509559, \\'job\\': \\'Animation\\', \\'name\\': \\'Steve Segal\\', \\'profile_path\\': None}, {\\'credit_id\\': \\'589211349251412dc80095c3\\', \\'department\\': \\'Visual Effects\\', \\'gender\\': 0, \\'id\\': 1748691, \\'job\\': \\'Animation\\', \\'name\\': \\'Doug Sheppeck\\', \\'profile_path\\': None}, {\\'credit_id\\': \\'5892113cc3a3680970009106\\', \\'department\\': \\'Visual Effects\\', \\'gender\\': 0, \\'id\\': 8050, \\'job\\': \\'Animation\\', \\'name\\': \\'Alan Sperling\\', \\'profile_path\\': None}, {\\'credit_id\\': \\'58921148c3a3686b0a004c99\\', \\'department\\': \\'Visual Effects\\', \\'gender\\': 0, \\'id\\': 8010, \\'job\\': \\'Animation\\', \\'name\\': \\'Doug Sweetland\\', \\'profile_path\\': None}, {\\'credit_id\\': \\'58921150c3a3680966009125\\', \\'department\\': \\'Visual Effects\\', \\'gender\\': 0, \\'id\\': 8044, \\'job\\': \\'Animation\\', \\'name\\': \\'David Tart\\', \\'profile_path\\': None}, {\\'credit_id\\': \\'589211629251412dc5009b00\\', \\'department\\': \\'Visual Effects\\', \\'gender\\': 0, \\'id\\': 1454034, \\'job\\': \\'Animation\\', \\'name\\': \\'Ken Willard\\', \\'profile_path\\': None}, {\\'credit_id\\': \\'589211c1c3a3686b0a004d28\\', \\'department\\': \\'Visual Effects\\', \\'gender\\': 0, \\'id\\': 7887, \\'job\\': \\'Visual Effects Supervisor\\', \\'name\\': \\'Thomas Porter\\', \\'profile_path\\': None}, {\\'credit_id\\': \\'589211d4c3a3680968008ed9\\', \\'department\\': \\'Visual Effects\\', \\'gender\\': 0, \\'id\\': 1406878, \\'job\\': \\'Visual Effects\\', \\'name\\': \\'Mark Thomas Henne\\', \\'profile_path\\': None}, {\\'credit_id\\': \\'589211f59251412dd4008e65\\', \\'department\\': \\'Visual Effects\\', \\'gender\\': 0, \\'id\\': 1748698, \\'job\\': \\'Visual Effects\\', \\'name\\': \\'Oren Jacob\\', \\'profile_path\\': None}, {\\'credit_id\\': \\'58921242c3a368096a00939b\\', \\'department\\': \\'Visual Effects\\', \\'gender\\': 0, \\'id\\': 1748699, \\'job\\': \\'Visual Effects\\', \\'name\\': \\'Darwyn Peachey\\', \\'profile_path\\': None}, {\\'credit_id\\': \\'5892124b9251412dc5009bd2\\', \\'department\\': \\'Visual Effects\\', \\'gender\\': 0, \\'id\\': 1748701, \\'job\\': \\'Visual Effects\\', \\'name\\': \\'Mitch Prater\\', \\'profile_path\\': None}, {\\'credit_id\\': \\'58921264c3a3686b0a004dbf\\', \\'department\\': \\'Visual Effects\\', \\'gender\\': 0, \\'id\\': 1748703, \\'job\\': \\'Visual Effects\\', \\'name\\': \\'Brian M. Rosen\\', \\'profile_path\\': None}, {\\'credit_id\\': \\'589212709251412dcd009676\\', \\'department\\': \\'Lighting\\', \\'gender\\': 1, \\'id\\': 12912, \\'job\\': \\'Lighting Supervisor\\', \\'name\\': \\'Sharon Calahan\\', \\'profile_path\\': None}, {\\'credit_id\\': \\'5892127fc3a3686b0a004de5\\', \\'department\\': \\'Lighting\\', \\'gender\\': 0, \\'id\\': 7899, \\'job\\': \\'Lighting Supervisor\\', \\'name\\': \\'Galyn Susman\\', \\'profile_path\\': None}, {\\'credit_id\\': \\'589212cdc3a3680970009268\\', \\'department\\': \\'Visual Effects\\', \\'gender\\': 0, \\'id\\': 12915, \\'job\\': \\'CG Painter\\', \\'name\\': \\'William Cone\\', \\'profile_path\\': None}, {\\'credit_id\\': \\'5892130f9251412dc8009791\\', \\'department\\': \\'Art\\', \\'gender\\': 0, \\'id\\': 1748705, \\'job\\': \\'Sculptor\\', \\'name\\': \\'Shelley Daniels Lekven\\', \\'profile_path\\': None}, {\\'credit_id\\': \\'5892131c9251412dd4008f4c\\', \\'department\\': \\'Visual Effects\\', \\'gender\\': 2, \\'id\\': 7889, \\'job\\': \\'Character Designer\\', \\'name\\': \\'Bob Pauley\\', \\'profile_path\\': None}, {\\'credit_id\\': \\'589213249251412dd100987b\\', \\'department\\': \\'Visual Effects\\', \\'gender\\': 2, \\'id\\': 7918, \\'job\\': \\'Character Designer\\', \\'name\\': \\'Bud Luckey\\', \\'profile_path\\': \\'/pcCh7G19FKMNijmPQg1PMH1btic.jpg\\'}, {\\'credit_id\\': \\'5892132b9251412dc80097b1\\', \\'department\\': \\'Visual Effects\\', \\'gender\\': 2, \\'id\\': 7, \\'job\\': \\'Character Designer\\', \\'name\\': \\'Andrew Stanton\\', \\'profile_path\\': \\'/pvQWsu0qc8JFQhMVJkTHuexUAa1.jpg\\'}, {\\'credit_id\\': \\'58921332c3a368634800467b\\', \\'department\\': \\'Visual Effects\\', \\'gender\\': 0, \\'id\\': 12915, \\'job\\': \\'Character Designer\\', \\'name\\': \\'William Cone\\', \\'profile_path\\': None}, {\\'credit_id\\': \\'5892135f9251412dd4008f90\\', \\'department\\': \\'Visual Effects\\', \\'gender\\': 0, \\'id\\': 1748706, \\'job\\': \\'Character Designer\\', \\'name\\': \\'Steve Johnson\\', \\'profile_path\\': None}, {\\'credit_id\\': \\'58921384c3a3680973008fd4\\', \\'department\\': \\'Visual Effects\\', \\'gender\\': 0, \\'id\\': 1176752, \\'job\\': \\'Character Designer\\', \\'name\\': \\'Dan Haskett\\', \\'profile_path\\': None}, {\\'credit_id\\': \\'5892138e9251412dc20099fc\\', \\'department\\': \\'Visual Effects\\', \\'gender\\': 0, \\'id\\': 1088034, \\'job\\': \\'Character Designer\\', \\'name\\': \\'Tom Holloway\\', \\'profile_path\\': \\'/a0r0T2usTBpgMI5aZbRBDW1fTl8.jpg\\'}, {\\'credit_id\\': \\'58921395c3a368097700942f\\', \\'department\\': \\'Visual Effects\\', \\'gender\\': 0, \\'id\\': 1447465, \\'job\\': \\'Character Designer\\', \\'name\\': \\'Jean Gillmore\\', \\'profile_path\\': None}, {\\'credit_id\\': \\'589213e2c3a3680973009026\\', \\'department\\': \\'Directing\\', \\'gender\\': 0, \\'id\\': 1748709, \\'job\\': \\'Layout\\', \\'name\\': \\'Desirée Mourad\\', \\'profile_path\\': None}, {\\'credit_id\\': \\'589214099251412dc5009d57\\', \\'department\\': \\'Art\\', \\'gender\\': 0, \\'id\\': 1748710, \\'job\\': \\'Set Dresser\\', \\'name\\': \"Kelly O\\'Connell\", \\'profile_path\\': None}, {\\'credit_id\\': \\'58921411c3a3686b0a004f70\\', \\'department\\': \\'Art\\', \\'gender\\': 0, \\'id\\': 1443471, \\'job\\': \\'Set Dresser\\', \\'name\\': \\'Sonoko Konishi\\', \\'profile_path\\': None}, {\\'credit_id\\': \\'58921434c3a368096a00956e\\', \\'department\\': \\'Art\\', \\'gender\\': 0, \\'id\\': 1748711, \\'job\\': \\'Set Dresser\\', \\'name\\': \\'Ann M. Rockwell\\', \\'profile_path\\': None}, {\\'credit_id\\': \\'5892144ac3a36809680090de\\', \\'department\\': \\'Editing\\', \\'gender\\': 0, \\'id\\': 1748712, \\'job\\': \\'Editorial Manager\\', \\'name\\': \\'Julie M. McDonald\\', \\'profile_path\\': None}, {\\'credit_id\\': \\'58921479c3a368096800910f\\', \\'department\\': \\'Editing\\', \\'gender\\': 0, \\'id\\': 1589729, \\'job\\': \\'Assistant Editor\\', \\'name\\': \\'Robin Lee\\', \\'profile_path\\': None}, {\\'credit_id\\': \\'5892148b9251412dd10099cc\\', \\'department\\': \\'Editing\\', \\'gender\\': 0, \\'id\\': 1748716, \\'job\\': \\'Assistant Editor\\', \\'name\\': \\'Tom Freeman\\', \\'profile_path\\': None}, {\\'credit_id\\': \\'589214959251412dcb009b1f\\', \\'department\\': \\'Editing\\', \\'gender\\': 0, \\'id\\': 1748717, \\'job\\': \\'Assistant Editor\\', \\'name\\': \\'Ada Cochavi\\', \\'profile_path\\': None}, {\\'credit_id\\': \\'5892149ec3a3686348004798\\', \\'department\\': \\'Editing\\', \\'gender\\': 0, \\'id\\': 1336438, \\'job\\': \\'Assistant Editor\\', \\'name\\': \\'Dana Mulligan\\', \\'profile_path\\': None}, {\\'credit_id\\': \\'589214adc3a368096a0095db\\', \\'department\\': \\'Editing\\', \\'gender\\': 0, \\'id\\': 1748718, \\'job\\': \\'Editorial Coordinator\\', \\'name\\': \\'Deirdre Morrison\\', \\'profile_path\\': None}, {\\'credit_id\\': \\'589214c7c3a368097700952b\\', \\'department\\': \\'Production\\', \\'gender\\': 0, \\'id\\': 1748719, \\'job\\': \\'Production Coordinator\\', \\'name\\': \\'Lori Lombardo\\', \\'profile_path\\': None}, {\\'credit_id\\': \\'589214cec3a368096a009603\\', \\'department\\': \\'Production\\', \\'gender\\': 0, \\'id\\': 1748720, \\'job\\': \\'Production Coordinator\\', \\'name\\': \\'Ellen Devine\\', \\'profile_path\\': None}, {\\'credit_id\\': \\'589214e39251412dc8009904\\', \\'department\\': \\'Crew\\', \\'gender\\': 0, \\'id\\': 1468014, \\'job\\': \\'Unit Publicist\\', \\'name\\': \\'Lauren Beth Strogoff\\', \\'profile_path\\': None}, {\\'credit_id\\': \\'58921544c3a3686b0a00507d\\', \\'department\\': \\'Sound\\', \\'gender\\': 2, \\'id\\': 2216, \\'job\\': \\'Sound Re-Recording Mixer\\', \\'name\\': \\'Gary Rydstrom\\', \\'profile_path\\': \\'/jZpr1nVfO7lldWI0YtmP1FGw7Rj.jpg\\'}, {\\'credit_id\\': \\'5892154c9251412dd1009a56\\', \\'department\\': \\'Sound\\', \\'gender\\': 0, \\'id\\': 1425978, \\'job\\': \\'Sound Re-Recording Mixer\\', \\'name\\': \\'Gary Summers\\', \\'profile_path\\': None}, {\\'credit_id\\': \\'58921555c3a36809680091bd\\', \\'department\\': \\'Sound\\', \\'gender\\': 2, \\'id\\': 8276, \\'job\\': \\'Supervising Sound Editor\\', \\'name\\': \\'Tim Holland\\', \\'profile_path\\': None}, {\\'credit_id\\': \\'589215c39251412dcb009c12\\', \\'department\\': \\'Sound\\', \\'gender\\': 0, \\'id\\': 7069, \\'job\\': \\'Sound Effects Editor\\', \\'name\\': \\'Pat Jackson\\', \\'profile_path\\': None}, {\\'credit_id\\': \\'58921698c3a368096a009788\\', \\'department\\': \\'Crew\\', \\'gender\\': 2, \\'id\\': 15894, \\'job\\': \\'Sound Design Assistant\\', \\'name\\': \\'Tom Myers\\', \\'profile_path\\': None}, {\\'credit_id\\': \\'589216a89251412dc2009ca4\\', \\'department\\': \\'Sound\\', \\'gender\\': 0, \\'id\\': 1414177, \\'job\\': \\'Assistant Sound Editor\\', \\'name\\': \\'J.R. Grubbs\\', \\'profile_path\\': None}, {\\'credit_id\\': \\'589216c19251412dc2009cb9\\', \\'department\\': \\'Sound\\', \\'gender\\': 1, \\'id\\': 1748724, \\'job\\': \\'Assistant Sound Editor\\', \\'name\\': \\'Susan Sanford\\', \\'profile_path\\': None}, {\\'credit_id\\': \\'589216ccc3a3680973009274\\', \\'department\\': \\'Sound\\', \\'gender\\': 0, \\'id\\': 1748725, \\'job\\': \\'Assistant Sound Editor\\', \\'name\\': \\'Susan Popovic\\', \\'profile_path\\': None}, {\\'credit_id\\': \\'589216d79251412dc8009aa0\\', \\'department\\': \\'Sound\\', \\'gender\\': 0, \\'id\\': 8067, \\'job\\': \\'Assistant Sound Editor\\', \\'name\\': \\'Dan Engstrom\\', \\'profile_path\\': None}, {\\'credit_id\\': \\'589216e49251412dcd009a4f\\', \\'department\\': \\'Production\\', \\'gender\\': 1, \\'id\\': 7902, \\'job\\': \\'Casting Consultant\\', \\'name\\': \\'Ruth Lambert\\', \\'profile_path\\': None}, {\\'credit_id\\': \\'589216f39251412dc2009cf3\\', \\'department\\': \\'Production\\', \\'gender\\': 0, \\'id\\': 84493, \\'job\\': \\'ADR Voice Casting\\', \\'name\\': \\'Mickie McGowan\\', \\'profile_path\\': \\'/k7TjJBfINsg8vLQxJwos6XObAD6.jpg\\'}]'"
      ]
     },
     "execution_count": 497,
     "metadata": {},
     "output_type": "execute_result"
    }
   ],
   "source": [
    "(df_credits.crew[0])"
   ]
  },
  {
   "attachments": {},
   "cell_type": "markdown",
   "metadata": {},
   "source": [
    "Verificar el tipo de dato"
   ]
  },
  {
   "cell_type": "code",
   "execution_count": 499,
   "metadata": {},
   "outputs": [
    {
     "data": {
      "text/plain": [
       "str"
      ]
     },
     "execution_count": 499,
     "metadata": {},
     "output_type": "execute_result"
    }
   ],
   "source": [
    "type(df_credits.crew[0])"
   ]
  },
  {
   "attachments": {},
   "cell_type": "markdown",
   "metadata": {},
   "source": [
    "Verificando que no existan nulos"
   ]
  },
  {
   "cell_type": "code",
   "execution_count": 500,
   "metadata": {},
   "outputs": [
    {
     "data": {
      "text/plain": [
       "0"
      ]
     },
     "execution_count": 500,
     "metadata": {},
     "output_type": "execute_result"
    }
   ],
   "source": [
    "df_credits.cast.isna().sum()"
   ]
  },
  {
   "attachments": {},
   "cell_type": "markdown",
   "metadata": {},
   "source": [
    "Desanidar solo los nombres de los directores"
   ]
  },
  {
   "cell_type": "code",
   "execution_count": 501,
   "metadata": {},
   "outputs": [],
   "source": [
    "import ast\n",
    "\n",
    "new_column= []"
   ]
  },
  {
   "cell_type": "code",
   "execution_count": 502,
   "metadata": {},
   "outputs": [],
   "source": [
    "for i in df_credits['crew']:\n",
    "\n",
    "    if type(i) == str:\n",
    "        i= ast.literal_eval(i)\n",
    "    \n",
    "    new_column.append(i)"
   ]
  },
  {
   "cell_type": "code",
   "execution_count": 503,
   "metadata": {},
   "outputs": [],
   "source": [
    "directors_names=[]"
   ]
  },
  {
   "cell_type": "code",
   "execution_count": 504,
   "metadata": {},
   "outputs": [],
   "source": [
    "for i in new_column:\n",
    "\n",
    "    if type(i) == float:\n",
    "        directors_names.append(i)\n",
    "\n",
    "    \n",
    "    if type(i) == dict: \n",
    "\n",
    "        if i.get(\"job\") == 'Director':\n",
    "\n",
    "            directors_names.append(i.get(\"name\"))\n",
    "\n",
    "    \n",
    "    if type(i) == list:\n",
    "        \n",
    "        name= []\n",
    "\n",
    "        for num in range(len(i)):\n",
    "\n",
    "            if i[num].get(\"job\") == 'Director':\n",
    "\n",
    "                name.append(i[num].get(\"name\"))\n",
    "\n",
    "        directors_names.append(name)"
   ]
  },
  {
   "attachments": {},
   "cell_type": "markdown",
   "metadata": {},
   "source": [
    "Agregar nueva columna al dataframe"
   ]
  },
  {
   "cell_type": "code",
   "execution_count": 506,
   "metadata": {},
   "outputs": [],
   "source": [
    "df_credits['directors_names']= directors_names"
   ]
  },
  {
   "attachments": {},
   "cell_type": "markdown",
   "metadata": {},
   "source": [
    "Borrar columnas cast y crew que no seran utilizadas"
   ]
  },
  {
   "cell_type": "code",
   "execution_count": 507,
   "metadata": {},
   "outputs": [],
   "source": [
    "df_credits.drop(columns= ['cast', 'crew'], inplace= True )"
   ]
  },
  {
   "attachments": {},
   "cell_type": "markdown",
   "metadata": {},
   "source": [
    "Cambiar el tipo de dato de id a int"
   ]
  },
  {
   "cell_type": "code",
   "execution_count": 508,
   "metadata": {},
   "outputs": [],
   "source": [
    "df_movies['id'] = df_movies['id'].astype('int64')"
   ]
  },
  {
   "attachments": {},
   "cell_type": "markdown",
   "metadata": {},
   "source": [
    "Mergear ambos dataframes por la columna en comun ID"
   ]
  },
  {
   "cell_type": "code",
   "execution_count": 509,
   "metadata": {},
   "outputs": [],
   "source": [
    "df_total = pd.merge(df_movies, df_credits, on='id', how='left')"
   ]
  },
  {
   "cell_type": "code",
   "execution_count": 510,
   "metadata": {},
   "outputs": [
    {
     "data": {
      "text/plain": [
       "Index(['budget', 'id', 'original_language', 'overview', 'popularity',\n",
       "       'release_date', 'revenue', 'runtime', 'status', 'tagline', 'title',\n",
       "       'vote_average', 'vote_count', 'id_collection', 'name_collection',\n",
       "       'poster_path_collection', 'backdrop_path_collection', 'id_genre',\n",
       "       'name_genre', 'iso_639_1', 'name_language', 'id_production_companies',\n",
       "       'name_production_companies', 'iso_country', 'name_country',\n",
       "       'release_year', 'return', 'actors_names', 'directors_names'],\n",
       "      dtype='object')"
      ]
     },
     "execution_count": 510,
     "metadata": {},
     "output_type": "execute_result"
    }
   ],
   "source": [
    "df_total.columns"
   ]
  },
  {
   "attachments": {},
   "cell_type": "markdown",
   "metadata": {},
   "source": [
    "Guardar columnas descartadas por el momento en otro csv"
   ]
  },
  {
   "cell_type": "code",
   "execution_count": 511,
   "metadata": {},
   "outputs": [],
   "source": [
    "descarte= df_total[['id_collection','poster_path_collection', 'backdrop_path_collection', 'id_genre', 'iso_639_1', 'id_production_companies', 'iso_country']]"
   ]
  },
  {
   "cell_type": "code",
   "execution_count": 512,
   "metadata": {},
   "outputs": [],
   "source": [
    "descarte.to_csv('descarte.csv', index=False)"
   ]
  },
  {
   "attachments": {},
   "cell_type": "markdown",
   "metadata": {},
   "source": [
    "Eliminar esas columnas del dataframe original"
   ]
  },
  {
   "cell_type": "code",
   "execution_count": 513,
   "metadata": {},
   "outputs": [],
   "source": [
    "df_total.drop(columns= ['id_collection','poster_path_collection', 'backdrop_path_collection', 'id_genre', 'iso_639_1', 'id_production_companies', 'iso_country'], inplace= True)"
   ]
  },
  {
   "attachments": {},
   "cell_type": "markdown",
   "metadata": {},
   "source": [
    "Resetear index"
   ]
  },
  {
   "cell_type": "code",
   "execution_count": 515,
   "metadata": {},
   "outputs": [],
   "source": [
    "df_total.reset_index(inplace=True)\n",
    "df_total.drop(columns='index', inplace= True)"
   ]
  },
  {
   "attachments": {},
   "cell_type": "markdown",
   "metadata": {},
   "source": [
    "Extraer dataframe total"
   ]
  },
  {
   "cell_type": "code",
   "execution_count": 516,
   "metadata": {},
   "outputs": [],
   "source": [
    "df_total.to_csv('proyecto1.csv', index=False)"
   ]
  }
 ],
 "metadata": {
  "kernelspec": {
   "display_name": "Python 3",
   "language": "python",
   "name": "python3"
  },
  "language_info": {
   "codemirror_mode": {
    "name": "ipython",
    "version": 3
   },
   "file_extension": ".py",
   "mimetype": "text/x-python",
   "name": "python",
   "nbconvert_exporter": "python",
   "pygments_lexer": "ipython3",
   "version": "3.10.8"
  },
  "orig_nbformat": 4
 },
 "nbformat": 4,
 "nbformat_minor": 2
}
